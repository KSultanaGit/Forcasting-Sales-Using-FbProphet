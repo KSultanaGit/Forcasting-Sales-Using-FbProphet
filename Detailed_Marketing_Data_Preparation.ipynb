{
 "cells": [
  {
   "cell_type": "code",
   "execution_count": 1,
   "metadata": {
    "_cell_guid": "b1076dfc-b9ad-4769-8c92-a6c4dae69d19",
    "_kg_hide-input": true,
    "_uuid": "8f2839f25d086af736a60e9eeb907d3b93b6e0e5",
    "execution": {
     "iopub.execute_input": "2021-10-29T02:15:19.601153Z",
     "iopub.status.busy": "2021-10-29T02:15:19.600428Z",
     "iopub.status.idle": "2021-10-29T02:15:22.212451Z",
     "shell.execute_reply": "2021-10-29T02:15:22.211438Z",
     "shell.execute_reply.started": "2021-10-29T02:15:19.601058Z"
    },
    "id": "Wu77y-D1xwHX"
   },
   "outputs": [],
   "source": [
    "import pandas as pd\n",
    "import numpy as np\n",
    "import seaborn as sns\n",
    "import matplotlib.pyplot as plt\n",
    "import datetime as dt\n",
    "from matplotlib.ticker import PercentFormatter\n",
    "\n",
    "from itertools import combinations\n",
    "from datetime import datetime\n",
    "\n",
    "import warnings\n",
    "\n",
    "# Suppress all warnings\n",
    "warnings.filterwarnings(\"ignore\")\n",
    "\n",
    "pd.options.mode.chained_assignment = None\n",
    "\n",
    "plt.rcParams[\"axes.facecolor\"] = \"white\"\n",
    "plt.rcParams[\"axes.grid\"] = 0"
   ]
  },
  {
   "cell_type": "markdown",
   "metadata": {
    "id": "yGuugQIhxwHY"
   },
   "source": [
    "\n",
    "\n",
    "# Dataset Overview"
   ]
  },
  {
   "cell_type": "code",
   "execution_count": 2,
   "metadata": {
    "_kg_hide-input": true,
    "colab": {
     "base_uri": "https://localhost:8080/"
    },
    "execution": {
     "iopub.execute_input": "2021-10-29T02:15:22.214292Z",
     "iopub.status.busy": "2021-10-29T02:15:22.213983Z",
     "iopub.status.idle": "2021-10-29T02:15:23.449785Z",
     "shell.execute_reply": "2021-10-29T02:15:23.448687Z",
     "shell.execute_reply.started": "2021-10-29T02:15:22.214263Z"
    },
    "id": "-XRc4z2txwHY",
    "outputId": "ed60518f-e1aa-44f5-edd0-097249e33730"
   },
   "outputs": [
    {
     "name": "stdout",
     "output_type": "stream",
     "text": [
      "(541909, 8)\n"
     ]
    }
   ],
   "source": [
    "# encoding is not utf-8\n",
    "# Try with latin1 encoding\n",
    "try:\n",
    "    df = pd.read_csv(\"data.csv\", encoding='latin1')\n",
    "except UnicodeDecodeError:\n",
    "    # If latin1 doesn't work, try cp1252\n",
    "    df = pd.read_csv(\"data.csv\", encoding='cp1252')\n",
    "\n",
    "print(df.shape)"
   ]
  },
  {
   "cell_type": "code",
   "execution_count": 3,
   "metadata": {
    "_kg_hide-input": true,
    "colab": {
     "base_uri": "https://localhost:8080/"
    },
    "execution": {
     "iopub.execute_input": "2021-10-29T02:15:23.451826Z",
     "iopub.status.busy": "2021-10-29T02:15:23.451546Z",
     "iopub.status.idle": "2021-10-29T02:15:23.74253Z",
     "shell.execute_reply": "2021-10-29T02:15:23.741586Z",
     "shell.execute_reply.started": "2021-10-29T02:15:23.451799Z"
    },
    "id": "vlfBN528xwHZ",
    "outputId": "f18c8aca-9328-4dc0-8e3a-f36047ad50b8"
   },
   "outputs": [
    {
     "name": "stdout",
     "output_type": "stream",
     "text": [
      "<class 'pandas.core.frame.DataFrame'>\n",
      "RangeIndex: 541909 entries, 0 to 541908\n",
      "Data columns (total 8 columns):\n",
      " #   Column       Non-Null Count   Dtype  \n",
      "---  ------       --------------   -----  \n",
      " 0   InvoiceNo    541909 non-null  object \n",
      " 1   StockCode    541909 non-null  object \n",
      " 2   Description  540455 non-null  object \n",
      " 3   Quantity     541909 non-null  int64  \n",
      " 4   InvoiceDate  541909 non-null  object \n",
      " 5   UnitPrice    541909 non-null  float64\n",
      " 6   CustomerID   406829 non-null  float64\n",
      " 7   Country      541909 non-null  object \n",
      "dtypes: float64(2), int64(1), object(5)\n",
      "memory usage: 33.1+ MB\n"
     ]
    }
   ],
   "source": [
    "df.info()"
   ]
  },
  {
   "cell_type": "markdown",
   "metadata": {},
   "source": [
    "# Data Preparation"
   ]
  },
  {
   "cell_type": "markdown",
   "metadata": {},
   "source": [
    "## 1. Handling Missing Values"
   ]
  },
  {
   "cell_type": "markdown",
   "metadata": {
    "id": "AjotYzDBxwHb"
   },
   "source": [
    "We have missing values for column Description and CustomerID."
   ]
  },
  {
   "cell_type": "code",
   "execution_count": 4,
   "metadata": {
    "colab": {
     "base_uri": "https://localhost:8080/"
    },
    "execution": {
     "iopub.execute_input": "2021-10-29T02:15:23.7458Z",
     "iopub.status.busy": "2021-10-29T02:15:23.745358Z",
     "iopub.status.idle": "2021-10-29T02:15:24.022173Z",
     "shell.execute_reply": "2021-10-29T02:15:24.021097Z",
     "shell.execute_reply.started": "2021-10-29T02:15:23.745751Z"
    },
    "id": "aYLSbVC_xwHb",
    "outputId": "88d54fb5-1e39-40b9-ba03-e190e2a02926"
   },
   "outputs": [
    {
     "data": {
      "text/plain": [
       "InvoiceNo           0\n",
       "StockCode           0\n",
       "Description      1454\n",
       "Quantity            0\n",
       "InvoiceDate         0\n",
       "UnitPrice           0\n",
       "CustomerID     135080\n",
       "Country             0\n",
       "dtype: int64"
      ]
     },
     "execution_count": 4,
     "metadata": {},
     "output_type": "execute_result"
    }
   ],
   "source": [
    "df.isnull().sum()"
   ]
  },
  {
   "cell_type": "code",
   "execution_count": 5,
   "metadata": {
    "colab": {
     "base_uri": "https://localhost:8080/",
     "height": 263
    },
    "execution": {
     "iopub.execute_input": "2021-10-29T02:15:24.023781Z",
     "iopub.status.busy": "2021-10-29T02:15:24.023495Z",
     "iopub.status.idle": "2021-10-29T02:15:24.104133Z",
     "shell.execute_reply": "2021-10-29T02:15:24.103027Z",
     "shell.execute_reply.started": "2021-10-29T02:15:24.023754Z"
    },
    "id": "TUw4lvrSxwHc",
    "outputId": "210b0305-7a12-474b-b952-231f79038076"
   },
   "outputs": [
    {
     "data": {
      "text/html": [
       "<div>\n",
       "<style scoped>\n",
       "    .dataframe tbody tr th:only-of-type {\n",
       "        vertical-align: middle;\n",
       "    }\n",
       "\n",
       "    .dataframe tbody tr th {\n",
       "        vertical-align: top;\n",
       "    }\n",
       "\n",
       "    .dataframe thead th {\n",
       "        text-align: right;\n",
       "    }\n",
       "</style>\n",
       "<table border=\"1\" class=\"dataframe\">\n",
       "  <thead>\n",
       "    <tr style=\"text-align: right;\">\n",
       "      <th></th>\n",
       "      <th>InvoiceNo</th>\n",
       "      <th>StockCode</th>\n",
       "      <th>Description</th>\n",
       "      <th>Quantity</th>\n",
       "      <th>InvoiceDate</th>\n",
       "      <th>UnitPrice</th>\n",
       "      <th>CustomerID</th>\n",
       "      <th>Country</th>\n",
       "    </tr>\n",
       "  </thead>\n",
       "  <tbody>\n",
       "    <tr>\n",
       "      <th>622</th>\n",
       "      <td>536414</td>\n",
       "      <td>22139</td>\n",
       "      <td>NaN</td>\n",
       "      <td>56</td>\n",
       "      <td>12/1/2010 11:52</td>\n",
       "      <td>0.0</td>\n",
       "      <td>NaN</td>\n",
       "      <td>United Kingdom</td>\n",
       "    </tr>\n",
       "    <tr>\n",
       "      <th>1970</th>\n",
       "      <td>536545</td>\n",
       "      <td>21134</td>\n",
       "      <td>NaN</td>\n",
       "      <td>1</td>\n",
       "      <td>12/1/2010 14:32</td>\n",
       "      <td>0.0</td>\n",
       "      <td>NaN</td>\n",
       "      <td>United Kingdom</td>\n",
       "    </tr>\n",
       "    <tr>\n",
       "      <th>1971</th>\n",
       "      <td>536546</td>\n",
       "      <td>22145</td>\n",
       "      <td>NaN</td>\n",
       "      <td>1</td>\n",
       "      <td>12/1/2010 14:33</td>\n",
       "      <td>0.0</td>\n",
       "      <td>NaN</td>\n",
       "      <td>United Kingdom</td>\n",
       "    </tr>\n",
       "    <tr>\n",
       "      <th>1972</th>\n",
       "      <td>536547</td>\n",
       "      <td>37509</td>\n",
       "      <td>NaN</td>\n",
       "      <td>1</td>\n",
       "      <td>12/1/2010 14:33</td>\n",
       "      <td>0.0</td>\n",
       "      <td>NaN</td>\n",
       "      <td>United Kingdom</td>\n",
       "    </tr>\n",
       "    <tr>\n",
       "      <th>1987</th>\n",
       "      <td>536549</td>\n",
       "      <td>85226A</td>\n",
       "      <td>NaN</td>\n",
       "      <td>1</td>\n",
       "      <td>12/1/2010 14:34</td>\n",
       "      <td>0.0</td>\n",
       "      <td>NaN</td>\n",
       "      <td>United Kingdom</td>\n",
       "    </tr>\n",
       "    <tr>\n",
       "      <th>...</th>\n",
       "      <td>...</td>\n",
       "      <td>...</td>\n",
       "      <td>...</td>\n",
       "      <td>...</td>\n",
       "      <td>...</td>\n",
       "      <td>...</td>\n",
       "      <td>...</td>\n",
       "      <td>...</td>\n",
       "    </tr>\n",
       "    <tr>\n",
       "      <th>535322</th>\n",
       "      <td>581199</td>\n",
       "      <td>84581</td>\n",
       "      <td>NaN</td>\n",
       "      <td>-2</td>\n",
       "      <td>12/7/2011 18:26</td>\n",
       "      <td>0.0</td>\n",
       "      <td>NaN</td>\n",
       "      <td>United Kingdom</td>\n",
       "    </tr>\n",
       "    <tr>\n",
       "      <th>535326</th>\n",
       "      <td>581203</td>\n",
       "      <td>23406</td>\n",
       "      <td>NaN</td>\n",
       "      <td>15</td>\n",
       "      <td>12/7/2011 18:31</td>\n",
       "      <td>0.0</td>\n",
       "      <td>NaN</td>\n",
       "      <td>United Kingdom</td>\n",
       "    </tr>\n",
       "    <tr>\n",
       "      <th>535332</th>\n",
       "      <td>581209</td>\n",
       "      <td>21620</td>\n",
       "      <td>NaN</td>\n",
       "      <td>6</td>\n",
       "      <td>12/7/2011 18:35</td>\n",
       "      <td>0.0</td>\n",
       "      <td>NaN</td>\n",
       "      <td>United Kingdom</td>\n",
       "    </tr>\n",
       "    <tr>\n",
       "      <th>536981</th>\n",
       "      <td>581234</td>\n",
       "      <td>72817</td>\n",
       "      <td>NaN</td>\n",
       "      <td>27</td>\n",
       "      <td>12/8/2011 10:33</td>\n",
       "      <td>0.0</td>\n",
       "      <td>NaN</td>\n",
       "      <td>United Kingdom</td>\n",
       "    </tr>\n",
       "    <tr>\n",
       "      <th>538554</th>\n",
       "      <td>581408</td>\n",
       "      <td>85175</td>\n",
       "      <td>NaN</td>\n",
       "      <td>20</td>\n",
       "      <td>12/8/2011 14:06</td>\n",
       "      <td>0.0</td>\n",
       "      <td>NaN</td>\n",
       "      <td>United Kingdom</td>\n",
       "    </tr>\n",
       "  </tbody>\n",
       "</table>\n",
       "<p>1454 rows × 8 columns</p>\n",
       "</div>"
      ],
      "text/plain": [
       "       InvoiceNo StockCode Description  Quantity      InvoiceDate  UnitPrice  \\\n",
       "622       536414     22139         NaN        56  12/1/2010 11:52        0.0   \n",
       "1970      536545     21134         NaN         1  12/1/2010 14:32        0.0   \n",
       "1971      536546     22145         NaN         1  12/1/2010 14:33        0.0   \n",
       "1972      536547     37509         NaN         1  12/1/2010 14:33        0.0   \n",
       "1987      536549    85226A         NaN         1  12/1/2010 14:34        0.0   \n",
       "...          ...       ...         ...       ...              ...        ...   \n",
       "535322    581199     84581         NaN        -2  12/7/2011 18:26        0.0   \n",
       "535326    581203     23406         NaN        15  12/7/2011 18:31        0.0   \n",
       "535332    581209     21620         NaN         6  12/7/2011 18:35        0.0   \n",
       "536981    581234     72817         NaN        27  12/8/2011 10:33        0.0   \n",
       "538554    581408     85175         NaN        20  12/8/2011 14:06        0.0   \n",
       "\n",
       "        CustomerID         Country  \n",
       "622            NaN  United Kingdom  \n",
       "1970           NaN  United Kingdom  \n",
       "1971           NaN  United Kingdom  \n",
       "1972           NaN  United Kingdom  \n",
       "1987           NaN  United Kingdom  \n",
       "...            ...             ...  \n",
       "535322         NaN  United Kingdom  \n",
       "535326         NaN  United Kingdom  \n",
       "535332         NaN  United Kingdom  \n",
       "536981         NaN  United Kingdom  \n",
       "538554         NaN  United Kingdom  \n",
       "\n",
       "[1454 rows x 8 columns]"
      ]
     },
     "execution_count": 5,
     "metadata": {},
     "output_type": "execute_result"
    }
   ],
   "source": [
    "df[df.Description.isnull()]"
   ]
  },
  {
   "cell_type": "markdown",
   "metadata": {
    "id": "9IL5Uf8KxwHc"
   },
   "source": [
    "We note that when description is null, we have 0 unit price and missing customer ids.\n",
    "Next lets check is all null descriptions have no customer id and unit price or not"
   ]
  },
  {
   "cell_type": "code",
   "execution_count": 6,
   "metadata": {
    "execution": {
     "iopub.execute_input": "2021-10-29T02:15:24.106469Z",
     "iopub.status.busy": "2021-10-29T02:15:24.106059Z",
     "iopub.status.idle": "2021-10-29T02:15:24.169902Z",
     "shell.execute_reply": "2021-10-29T02:15:24.169044Z",
     "shell.execute_reply.started": "2021-10-29T02:15:24.10642Z"
    },
    "id": "fg9OWm3YxwHd"
   },
   "outputs": [
    {
     "data": {
      "text/plain": [
       "0"
      ]
     },
     "execution_count": 6,
     "metadata": {},
     "output_type": "execute_result"
    }
   ],
   "source": [
    "df[df.Description.isnull()].CustomerID.nunique()"
   ]
  },
  {
   "cell_type": "code",
   "execution_count": 7,
   "metadata": {
    "execution": {
     "iopub.execute_input": "2021-10-29T02:15:24.172031Z",
     "iopub.status.busy": "2021-10-29T02:15:24.171415Z",
     "iopub.status.idle": "2021-10-29T02:15:24.234637Z",
     "shell.execute_reply": "2021-10-29T02:15:24.233785Z",
     "shell.execute_reply.started": "2021-10-29T02:15:24.171995Z"
    },
    "id": "Tgr4aJD9xwHd"
   },
   "outputs": [
    {
     "data": {
      "text/plain": [
       "UnitPrice\n",
       "0.0    1454\n",
       "Name: count, dtype: int64"
      ]
     },
     "execution_count": 7,
     "metadata": {},
     "output_type": "execute_result"
    }
   ],
   "source": [
    "df[df.Description.isnull()].UnitPrice.value_counts()"
   ]
  },
  {
   "cell_type": "markdown",
   "metadata": {
    "id": "jqR4rgGFxwHe"
   },
   "source": [
    "When description is null, we have no available customer id and zero unit price for all data. Let's drop nan values."
   ]
  },
  {
   "cell_type": "code",
   "execution_count": 8,
   "metadata": {
    "execution": {
     "iopub.execute_input": "2021-10-29T02:15:24.237722Z",
     "iopub.status.busy": "2021-10-29T02:15:24.237376Z",
     "iopub.status.idle": "2021-10-29T02:15:24.34764Z",
     "shell.execute_reply": "2021-10-29T02:15:24.346559Z",
     "shell.execute_reply.started": "2021-10-29T02:15:24.237688Z"
    },
    "id": "Ic4Xw_VfxwHe"
   },
   "outputs": [],
   "source": [
    "df = df[df.Description.notnull()]"
   ]
  },
  {
   "cell_type": "code",
   "execution_count": 9,
   "metadata": {},
   "outputs": [
    {
     "data": {
      "text/html": [
       "<div>\n",
       "<style scoped>\n",
       "    .dataframe tbody tr th:only-of-type {\n",
       "        vertical-align: middle;\n",
       "    }\n",
       "\n",
       "    .dataframe tbody tr th {\n",
       "        vertical-align: top;\n",
       "    }\n",
       "\n",
       "    .dataframe thead th {\n",
       "        text-align: right;\n",
       "    }\n",
       "</style>\n",
       "<table border=\"1\" class=\"dataframe\">\n",
       "  <thead>\n",
       "    <tr style=\"text-align: right;\">\n",
       "      <th></th>\n",
       "      <th>InvoiceNo</th>\n",
       "      <th>StockCode</th>\n",
       "      <th>Description</th>\n",
       "      <th>Quantity</th>\n",
       "      <th>InvoiceDate</th>\n",
       "      <th>UnitPrice</th>\n",
       "      <th>CustomerID</th>\n",
       "      <th>Country</th>\n",
       "    </tr>\n",
       "  </thead>\n",
       "  <tbody>\n",
       "  </tbody>\n",
       "</table>\n",
       "</div>"
      ],
      "text/plain": [
       "Empty DataFrame\n",
       "Columns: [InvoiceNo, StockCode, Description, Quantity, InvoiceDate, UnitPrice, CustomerID, Country]\n",
       "Index: []"
      ]
     },
     "execution_count": 9,
     "metadata": {},
     "output_type": "execute_result"
    }
   ],
   "source": [
    "df[df.Description.isnull()]"
   ]
  },
  {
   "cell_type": "markdown",
   "metadata": {},
   "source": [
    "So null description rows are deleted. Lets check if we have more customer ids which are null"
   ]
  },
  {
   "cell_type": "code",
   "execution_count": 10,
   "metadata": {
    "execution": {
     "iopub.execute_input": "2021-10-29T02:15:24.350154Z",
     "iopub.status.busy": "2021-10-29T02:15:24.349664Z",
     "iopub.status.idle": "2021-10-29T02:15:24.383375Z",
     "shell.execute_reply": "2021-10-29T02:15:24.382444Z",
     "shell.execute_reply.started": "2021-10-29T02:15:24.350113Z"
    },
    "id": "yteRD1gYxwHe"
   },
   "outputs": [
    {
     "data": {
      "text/html": [
       "<div>\n",
       "<style scoped>\n",
       "    .dataframe tbody tr th:only-of-type {\n",
       "        vertical-align: middle;\n",
       "    }\n",
       "\n",
       "    .dataframe tbody tr th {\n",
       "        vertical-align: top;\n",
       "    }\n",
       "\n",
       "    .dataframe thead th {\n",
       "        text-align: right;\n",
       "    }\n",
       "</style>\n",
       "<table border=\"1\" class=\"dataframe\">\n",
       "  <thead>\n",
       "    <tr style=\"text-align: right;\">\n",
       "      <th></th>\n",
       "      <th>InvoiceNo</th>\n",
       "      <th>StockCode</th>\n",
       "      <th>Description</th>\n",
       "      <th>Quantity</th>\n",
       "      <th>InvoiceDate</th>\n",
       "      <th>UnitPrice</th>\n",
       "      <th>CustomerID</th>\n",
       "      <th>Country</th>\n",
       "    </tr>\n",
       "  </thead>\n",
       "  <tbody>\n",
       "    <tr>\n",
       "      <th>1443</th>\n",
       "      <td>536544</td>\n",
       "      <td>21773</td>\n",
       "      <td>DECORATIVE ROSE BATHROOM BOTTLE</td>\n",
       "      <td>1</td>\n",
       "      <td>12/1/2010 14:32</td>\n",
       "      <td>2.51</td>\n",
       "      <td>NaN</td>\n",
       "      <td>United Kingdom</td>\n",
       "    </tr>\n",
       "    <tr>\n",
       "      <th>1444</th>\n",
       "      <td>536544</td>\n",
       "      <td>21774</td>\n",
       "      <td>DECORATIVE CATS BATHROOM BOTTLE</td>\n",
       "      <td>2</td>\n",
       "      <td>12/1/2010 14:32</td>\n",
       "      <td>2.51</td>\n",
       "      <td>NaN</td>\n",
       "      <td>United Kingdom</td>\n",
       "    </tr>\n",
       "    <tr>\n",
       "      <th>1445</th>\n",
       "      <td>536544</td>\n",
       "      <td>21786</td>\n",
       "      <td>POLKADOT RAIN HAT</td>\n",
       "      <td>4</td>\n",
       "      <td>12/1/2010 14:32</td>\n",
       "      <td>0.85</td>\n",
       "      <td>NaN</td>\n",
       "      <td>United Kingdom</td>\n",
       "    </tr>\n",
       "    <tr>\n",
       "      <th>1446</th>\n",
       "      <td>536544</td>\n",
       "      <td>21787</td>\n",
       "      <td>RAIN PONCHO RETROSPOT</td>\n",
       "      <td>2</td>\n",
       "      <td>12/1/2010 14:32</td>\n",
       "      <td>1.66</td>\n",
       "      <td>NaN</td>\n",
       "      <td>United Kingdom</td>\n",
       "    </tr>\n",
       "    <tr>\n",
       "      <th>1447</th>\n",
       "      <td>536544</td>\n",
       "      <td>21790</td>\n",
       "      <td>VINTAGE SNAP CARDS</td>\n",
       "      <td>9</td>\n",
       "      <td>12/1/2010 14:32</td>\n",
       "      <td>1.66</td>\n",
       "      <td>NaN</td>\n",
       "      <td>United Kingdom</td>\n",
       "    </tr>\n",
       "    <tr>\n",
       "      <th>...</th>\n",
       "      <td>...</td>\n",
       "      <td>...</td>\n",
       "      <td>...</td>\n",
       "      <td>...</td>\n",
       "      <td>...</td>\n",
       "      <td>...</td>\n",
       "      <td>...</td>\n",
       "      <td>...</td>\n",
       "    </tr>\n",
       "    <tr>\n",
       "      <th>541536</th>\n",
       "      <td>581498</td>\n",
       "      <td>85099B</td>\n",
       "      <td>JUMBO BAG RED RETROSPOT</td>\n",
       "      <td>5</td>\n",
       "      <td>12/9/2011 10:26</td>\n",
       "      <td>4.13</td>\n",
       "      <td>NaN</td>\n",
       "      <td>United Kingdom</td>\n",
       "    </tr>\n",
       "    <tr>\n",
       "      <th>541537</th>\n",
       "      <td>581498</td>\n",
       "      <td>85099C</td>\n",
       "      <td>JUMBO  BAG BAROQUE BLACK WHITE</td>\n",
       "      <td>4</td>\n",
       "      <td>12/9/2011 10:26</td>\n",
       "      <td>4.13</td>\n",
       "      <td>NaN</td>\n",
       "      <td>United Kingdom</td>\n",
       "    </tr>\n",
       "    <tr>\n",
       "      <th>541538</th>\n",
       "      <td>581498</td>\n",
       "      <td>85150</td>\n",
       "      <td>LADIES &amp; GENTLEMEN METAL SIGN</td>\n",
       "      <td>1</td>\n",
       "      <td>12/9/2011 10:26</td>\n",
       "      <td>4.96</td>\n",
       "      <td>NaN</td>\n",
       "      <td>United Kingdom</td>\n",
       "    </tr>\n",
       "    <tr>\n",
       "      <th>541539</th>\n",
       "      <td>581498</td>\n",
       "      <td>85174</td>\n",
       "      <td>S/4 CACTI CANDLES</td>\n",
       "      <td>1</td>\n",
       "      <td>12/9/2011 10:26</td>\n",
       "      <td>10.79</td>\n",
       "      <td>NaN</td>\n",
       "      <td>United Kingdom</td>\n",
       "    </tr>\n",
       "    <tr>\n",
       "      <th>541540</th>\n",
       "      <td>581498</td>\n",
       "      <td>DOT</td>\n",
       "      <td>DOTCOM POSTAGE</td>\n",
       "      <td>1</td>\n",
       "      <td>12/9/2011 10:26</td>\n",
       "      <td>1714.17</td>\n",
       "      <td>NaN</td>\n",
       "      <td>United Kingdom</td>\n",
       "    </tr>\n",
       "  </tbody>\n",
       "</table>\n",
       "<p>133626 rows × 8 columns</p>\n",
       "</div>"
      ],
      "text/plain": [
       "       InvoiceNo StockCode                      Description  Quantity  \\\n",
       "1443      536544     21773  DECORATIVE ROSE BATHROOM BOTTLE         1   \n",
       "1444      536544     21774  DECORATIVE CATS BATHROOM BOTTLE         2   \n",
       "1445      536544     21786               POLKADOT RAIN HAT          4   \n",
       "1446      536544     21787            RAIN PONCHO RETROSPOT         2   \n",
       "1447      536544     21790               VINTAGE SNAP CARDS         9   \n",
       "...          ...       ...                              ...       ...   \n",
       "541536    581498    85099B          JUMBO BAG RED RETROSPOT         5   \n",
       "541537    581498    85099C   JUMBO  BAG BAROQUE BLACK WHITE         4   \n",
       "541538    581498     85150    LADIES & GENTLEMEN METAL SIGN         1   \n",
       "541539    581498     85174                S/4 CACTI CANDLES         1   \n",
       "541540    581498       DOT                   DOTCOM POSTAGE         1   \n",
       "\n",
       "            InvoiceDate  UnitPrice  CustomerID         Country  \n",
       "1443    12/1/2010 14:32       2.51         NaN  United Kingdom  \n",
       "1444    12/1/2010 14:32       2.51         NaN  United Kingdom  \n",
       "1445    12/1/2010 14:32       0.85         NaN  United Kingdom  \n",
       "1446    12/1/2010 14:32       1.66         NaN  United Kingdom  \n",
       "1447    12/1/2010 14:32       1.66         NaN  United Kingdom  \n",
       "...                 ...        ...         ...             ...  \n",
       "541536  12/9/2011 10:26       4.13         NaN  United Kingdom  \n",
       "541537  12/9/2011 10:26       4.13         NaN  United Kingdom  \n",
       "541538  12/9/2011 10:26       4.96         NaN  United Kingdom  \n",
       "541539  12/9/2011 10:26      10.79         NaN  United Kingdom  \n",
       "541540  12/9/2011 10:26    1714.17         NaN  United Kingdom  \n",
       "\n",
       "[133626 rows x 8 columns]"
      ]
     },
     "execution_count": 10,
     "metadata": {},
     "output_type": "execute_result"
    }
   ],
   "source": [
    "df[df.CustomerID.isnull()]"
   ]
  },
  {
   "cell_type": "markdown",
   "metadata": {
    "id": "5cJn7AenxwHf"
   },
   "source": [
    "At first look, we can see records that have missing customer id, there is no specific characteristics.\n",
    "\n",
    "StockCode contains non-numeric records i.e. DOT and some are alphanumeric. Lets check stock codes."
   ]
  },
  {
   "cell_type": "code",
   "execution_count": 11,
   "metadata": {
    "_kg_hide-input": true,
    "execution": {
     "iopub.execute_input": "2021-10-29T02:15:24.385082Z",
     "iopub.status.busy": "2021-10-29T02:15:24.384728Z",
     "iopub.status.idle": "2021-10-29T02:15:24.431809Z",
     "shell.execute_reply": "2021-10-29T02:15:24.431069Z",
     "shell.execute_reply.started": "2021-10-29T02:15:24.38505Z"
    },
    "id": "6H0hUhS3xwHf"
   },
   "outputs": [
    {
     "name": "stdout",
     "output_type": "stream",
     "text": [
      "We have 540455 observations.\n",
      "We have 406829 observations after removing unknown customers.\n"
     ]
    }
   ],
   "source": [
    "print(\"We have {} observations.\".format(df.shape[0]))\n",
    "\n",
    "df = df[df.CustomerID.notnull()]\n",
    "\n",
    "print(\"We have {} observations after removing unknown customers.\".format(df.shape[0]))"
   ]
  },
  {
   "cell_type": "code",
   "execution_count": 12,
   "metadata": {
    "execution": {
     "iopub.execute_input": "2021-10-29T02:15:24.433308Z",
     "iopub.status.busy": "2021-10-29T02:15:24.433024Z",
     "iopub.status.idle": "2021-10-29T02:15:24.641101Z",
     "shell.execute_reply": "2021-10-29T02:15:24.640042Z",
     "shell.execute_reply.started": "2021-10-29T02:15:24.433278Z"
    },
    "id": "FoUtSfqcxwHg"
   },
   "outputs": [
    {
     "data": {
      "text/plain": [
       "InvoiceNo      0\n",
       "StockCode      0\n",
       "Description    0\n",
       "Quantity       0\n",
       "InvoiceDate    0\n",
       "UnitPrice      0\n",
       "CustomerID     0\n",
       "Country        0\n",
       "dtype: int64"
      ]
     },
     "execution_count": 12,
     "metadata": {},
     "output_type": "execute_result"
    }
   ],
   "source": [
    "df.isnull().sum()"
   ]
  },
  {
   "cell_type": "markdown",
   "metadata": {
    "id": "iz-WarZ6xwHg"
   },
   "source": [
    "We are done with systematically missing values. But lets go deeper."
   ]
  },
  {
   "cell_type": "markdown",
   "metadata": {
    "id": "GUPare0UxwHg"
   },
   "source": [
    "Sometimes, missing values are filled with some denotations. \"NAN\", \"na\", \"?\", \"Unknown\", and so on. Let's check them."
   ]
  },
  {
   "cell_type": "code",
   "execution_count": 13,
   "metadata": {
    "execution": {
     "iopub.execute_input": "2021-10-29T02:15:24.642654Z",
     "iopub.status.busy": "2021-10-29T02:15:24.64234Z",
     "iopub.status.idle": "2021-10-29T02:15:24.954369Z",
     "shell.execute_reply": "2021-10-29T02:15:24.953501Z",
     "shell.execute_reply.started": "2021-10-29T02:15:24.642622Z"
    },
    "id": "MSjWWQUtxwHh"
   },
   "outputs": [
    {
     "data": {
      "text/html": [
       "<div>\n",
       "<style scoped>\n",
       "    .dataframe tbody tr th:only-of-type {\n",
       "        vertical-align: middle;\n",
       "    }\n",
       "\n",
       "    .dataframe tbody tr th {\n",
       "        vertical-align: top;\n",
       "    }\n",
       "\n",
       "    .dataframe thead th {\n",
       "        text-align: right;\n",
       "    }\n",
       "</style>\n",
       "<table border=\"1\" class=\"dataframe\">\n",
       "  <thead>\n",
       "    <tr style=\"text-align: right;\">\n",
       "      <th></th>\n",
       "      <th>InvoiceNo</th>\n",
       "      <th>StockCode</th>\n",
       "      <th>Description</th>\n",
       "      <th>Quantity</th>\n",
       "      <th>InvoiceDate</th>\n",
       "      <th>UnitPrice</th>\n",
       "      <th>CustomerID</th>\n",
       "      <th>Country</th>\n",
       "    </tr>\n",
       "  </thead>\n",
       "  <tbody>\n",
       "  </tbody>\n",
       "</table>\n",
       "</div>"
      ],
      "text/plain": [
       "Empty DataFrame\n",
       "Columns: [InvoiceNo, StockCode, Description, Quantity, InvoiceDate, UnitPrice, CustomerID, Country]\n",
       "Index: []"
      ]
     },
     "execution_count": 13,
     "metadata": {},
     "output_type": "execute_result"
    }
   ],
   "source": [
    "df[df.Description.str.len() < 5]"
   ]
  },
  {
   "cell_type": "markdown",
   "metadata": {},
   "source": [
    "## 2. Checking for invalid column entries"
   ]
  },
  {
   "cell_type": "code",
   "execution_count": 14,
   "metadata": {
    "execution": {
     "iopub.execute_input": "2021-10-29T02:15:24.958104Z",
     "iopub.status.busy": "2021-10-29T02:15:24.957588Z",
     "iopub.status.idle": "2021-10-29T02:15:25.075794Z",
     "shell.execute_reply": "2021-10-29T02:15:25.074395Z",
     "shell.execute_reply.started": "2021-10-29T02:15:24.958054Z"
    },
    "id": "UGzxjwAVxwHi"
   },
   "outputs": [
    {
     "data": {
      "text/plain": [
       "InvoiceNo\n",
       "576339    542\n",
       "579196    533\n",
       "580727    529\n",
       "578270    442\n",
       "573576    435\n",
       "         ... \n",
       "554155      1\n",
       "570248      1\n",
       "545414      1\n",
       "545418      1\n",
       "565192      1\n",
       "Name: count, Length: 22190, dtype: int64"
      ]
     },
     "execution_count": 14,
     "metadata": {},
     "output_type": "execute_result"
    }
   ],
   "source": [
    "df.InvoiceNo.value_counts()"
   ]
  },
  {
   "cell_type": "markdown",
   "metadata": {
    "id": "C-hxCYAaxwHi"
   },
   "source": [
    "InvoiceNo has coded with 6 digit numeric characters. We can see that some InvoiceNo records starts with the letter C. This means cancellation."
   ]
  },
  {
   "cell_type": "code",
   "execution_count": 15,
   "metadata": {
    "execution": {
     "iopub.execute_input": "2021-10-29T02:15:25.078242Z",
     "iopub.status.busy": "2021-10-29T02:15:25.077495Z",
     "iopub.status.idle": "2021-10-29T02:15:25.323178Z",
     "shell.execute_reply": "2021-10-29T02:15:25.322109Z",
     "shell.execute_reply.started": "2021-10-29T02:15:25.078193Z"
    },
    "id": "OXbD0mJwxwHj"
   },
   "outputs": [
    {
     "data": {
      "text/html": [
       "<div>\n",
       "<style scoped>\n",
       "    .dataframe tbody tr th:only-of-type {\n",
       "        vertical-align: middle;\n",
       "    }\n",
       "\n",
       "    .dataframe tbody tr th {\n",
       "        vertical-align: top;\n",
       "    }\n",
       "\n",
       "    .dataframe thead th {\n",
       "        text-align: right;\n",
       "    }\n",
       "</style>\n",
       "<table border=\"1\" class=\"dataframe\">\n",
       "  <thead>\n",
       "    <tr style=\"text-align: right;\">\n",
       "      <th></th>\n",
       "      <th>InvoiceNo</th>\n",
       "      <th>StockCode</th>\n",
       "      <th>Description</th>\n",
       "      <th>Quantity</th>\n",
       "      <th>InvoiceDate</th>\n",
       "      <th>UnitPrice</th>\n",
       "      <th>CustomerID</th>\n",
       "      <th>Country</th>\n",
       "    </tr>\n",
       "  </thead>\n",
       "  <tbody>\n",
       "    <tr>\n",
       "      <th>141</th>\n",
       "      <td>C536379</td>\n",
       "      <td>D</td>\n",
       "      <td>Discount</td>\n",
       "      <td>-1</td>\n",
       "      <td>12/1/2010 9:41</td>\n",
       "      <td>27.50</td>\n",
       "      <td>14527.0</td>\n",
       "      <td>United Kingdom</td>\n",
       "    </tr>\n",
       "    <tr>\n",
       "      <th>154</th>\n",
       "      <td>C536383</td>\n",
       "      <td>35004C</td>\n",
       "      <td>SET OF 3 COLOURED  FLYING DUCKS</td>\n",
       "      <td>-1</td>\n",
       "      <td>12/1/2010 9:49</td>\n",
       "      <td>4.65</td>\n",
       "      <td>15311.0</td>\n",
       "      <td>United Kingdom</td>\n",
       "    </tr>\n",
       "    <tr>\n",
       "      <th>235</th>\n",
       "      <td>C536391</td>\n",
       "      <td>22556</td>\n",
       "      <td>PLASTERS IN TIN CIRCUS PARADE</td>\n",
       "      <td>-12</td>\n",
       "      <td>12/1/2010 10:24</td>\n",
       "      <td>1.65</td>\n",
       "      <td>17548.0</td>\n",
       "      <td>United Kingdom</td>\n",
       "    </tr>\n",
       "    <tr>\n",
       "      <th>236</th>\n",
       "      <td>C536391</td>\n",
       "      <td>21984</td>\n",
       "      <td>PACK OF 12 PINK PAISLEY TISSUES</td>\n",
       "      <td>-24</td>\n",
       "      <td>12/1/2010 10:24</td>\n",
       "      <td>0.29</td>\n",
       "      <td>17548.0</td>\n",
       "      <td>United Kingdom</td>\n",
       "    </tr>\n",
       "    <tr>\n",
       "      <th>237</th>\n",
       "      <td>C536391</td>\n",
       "      <td>21983</td>\n",
       "      <td>PACK OF 12 BLUE PAISLEY TISSUES</td>\n",
       "      <td>-24</td>\n",
       "      <td>12/1/2010 10:24</td>\n",
       "      <td>0.29</td>\n",
       "      <td>17548.0</td>\n",
       "      <td>United Kingdom</td>\n",
       "    </tr>\n",
       "    <tr>\n",
       "      <th>...</th>\n",
       "      <td>...</td>\n",
       "      <td>...</td>\n",
       "      <td>...</td>\n",
       "      <td>...</td>\n",
       "      <td>...</td>\n",
       "      <td>...</td>\n",
       "      <td>...</td>\n",
       "      <td>...</td>\n",
       "    </tr>\n",
       "    <tr>\n",
       "      <th>540449</th>\n",
       "      <td>C581490</td>\n",
       "      <td>23144</td>\n",
       "      <td>ZINC T-LIGHT HOLDER STARS SMALL</td>\n",
       "      <td>-11</td>\n",
       "      <td>12/9/2011 9:57</td>\n",
       "      <td>0.83</td>\n",
       "      <td>14397.0</td>\n",
       "      <td>United Kingdom</td>\n",
       "    </tr>\n",
       "    <tr>\n",
       "      <th>541541</th>\n",
       "      <td>C581499</td>\n",
       "      <td>M</td>\n",
       "      <td>Manual</td>\n",
       "      <td>-1</td>\n",
       "      <td>12/9/2011 10:28</td>\n",
       "      <td>224.69</td>\n",
       "      <td>15498.0</td>\n",
       "      <td>United Kingdom</td>\n",
       "    </tr>\n",
       "    <tr>\n",
       "      <th>541715</th>\n",
       "      <td>C581568</td>\n",
       "      <td>21258</td>\n",
       "      <td>VICTORIAN SEWING BOX LARGE</td>\n",
       "      <td>-5</td>\n",
       "      <td>12/9/2011 11:57</td>\n",
       "      <td>10.95</td>\n",
       "      <td>15311.0</td>\n",
       "      <td>United Kingdom</td>\n",
       "    </tr>\n",
       "    <tr>\n",
       "      <th>541716</th>\n",
       "      <td>C581569</td>\n",
       "      <td>84978</td>\n",
       "      <td>HANGING HEART JAR T-LIGHT HOLDER</td>\n",
       "      <td>-1</td>\n",
       "      <td>12/9/2011 11:58</td>\n",
       "      <td>1.25</td>\n",
       "      <td>17315.0</td>\n",
       "      <td>United Kingdom</td>\n",
       "    </tr>\n",
       "    <tr>\n",
       "      <th>541717</th>\n",
       "      <td>C581569</td>\n",
       "      <td>20979</td>\n",
       "      <td>36 PENCILS TUBE RED RETROSPOT</td>\n",
       "      <td>-5</td>\n",
       "      <td>12/9/2011 11:58</td>\n",
       "      <td>1.25</td>\n",
       "      <td>17315.0</td>\n",
       "      <td>United Kingdom</td>\n",
       "    </tr>\n",
       "  </tbody>\n",
       "</table>\n",
       "<p>8905 rows × 8 columns</p>\n",
       "</div>"
      ],
      "text/plain": [
       "       InvoiceNo StockCode                       Description  Quantity  \\\n",
       "141      C536379         D                          Discount        -1   \n",
       "154      C536383    35004C   SET OF 3 COLOURED  FLYING DUCKS        -1   \n",
       "235      C536391     22556    PLASTERS IN TIN CIRCUS PARADE        -12   \n",
       "236      C536391     21984  PACK OF 12 PINK PAISLEY TISSUES        -24   \n",
       "237      C536391     21983  PACK OF 12 BLUE PAISLEY TISSUES        -24   \n",
       "...          ...       ...                               ...       ...   \n",
       "540449   C581490     23144   ZINC T-LIGHT HOLDER STARS SMALL       -11   \n",
       "541541   C581499         M                            Manual        -1   \n",
       "541715   C581568     21258        VICTORIAN SEWING BOX LARGE        -5   \n",
       "541716   C581569     84978  HANGING HEART JAR T-LIGHT HOLDER        -1   \n",
       "541717   C581569     20979     36 PENCILS TUBE RED RETROSPOT        -5   \n",
       "\n",
       "            InvoiceDate  UnitPrice  CustomerID         Country  \n",
       "141      12/1/2010 9:41      27.50     14527.0  United Kingdom  \n",
       "154      12/1/2010 9:49       4.65     15311.0  United Kingdom  \n",
       "235     12/1/2010 10:24       1.65     17548.0  United Kingdom  \n",
       "236     12/1/2010 10:24       0.29     17548.0  United Kingdom  \n",
       "237     12/1/2010 10:24       0.29     17548.0  United Kingdom  \n",
       "...                 ...        ...         ...             ...  \n",
       "540449   12/9/2011 9:57       0.83     14397.0  United Kingdom  \n",
       "541541  12/9/2011 10:28     224.69     15498.0  United Kingdom  \n",
       "541715  12/9/2011 11:57      10.95     15311.0  United Kingdom  \n",
       "541716  12/9/2011 11:58       1.25     17315.0  United Kingdom  \n",
       "541717  12/9/2011 11:58       1.25     17315.0  United Kingdom  \n",
       "\n",
       "[8905 rows x 8 columns]"
      ]
     },
     "execution_count": 15,
     "metadata": {},
     "output_type": "execute_result"
    }
   ],
   "source": [
    "df[df[\"InvoiceNo\"].str.startswith(\"C\")]"
   ]
  },
  {
   "cell_type": "markdown",
   "metadata": {
    "id": "J5XzLwVOxwHj"
   },
   "source": [
    "Cancelled invoices have negative quantity."
   ]
  },
  {
   "cell_type": "code",
   "execution_count": 16,
   "metadata": {
    "execution": {
     "iopub.execute_input": "2021-10-29T02:15:25.325318Z",
     "iopub.status.busy": "2021-10-29T02:15:25.324691Z",
     "iopub.status.idle": "2021-10-29T02:15:25.61537Z",
     "shell.execute_reply": "2021-10-29T02:15:25.614448Z",
     "shell.execute_reply.started": "2021-10-29T02:15:25.325271Z"
    },
    "id": "Uv_eiRZLxwHj"
   },
   "outputs": [],
   "source": [
    "df[\"Cancelled\"] = df[\"InvoiceNo\"].apply(lambda x: 1 if x.startswith(\"C\") else 0)"
   ]
  },
  {
   "cell_type": "markdown",
   "metadata": {
    "id": "jCHA9KM9xwHo"
   },
   "source": [
    "Can we have both cancellation record, and record before cancellation. I mean, for example, we have C536379, have we 536379 ?"
   ]
  },
  {
   "cell_type": "code",
   "execution_count": 17,
   "metadata": {
    "execution": {
     "iopub.execute_input": "2021-10-29T02:15:25.617293Z",
     "iopub.status.busy": "2021-10-29T02:15:25.616644Z",
     "iopub.status.idle": "2021-10-29T02:15:25.638588Z",
     "shell.execute_reply": "2021-10-29T02:15:25.637575Z",
     "shell.execute_reply.started": "2021-10-29T02:15:25.617246Z"
    },
    "id": "z-dwveN8xwHp"
   },
   "outputs": [
    {
     "data": {
      "text/plain": [
       "['536379', '536383', '536391', '536391', '536391']"
      ]
     },
     "execution_count": 17,
     "metadata": {},
     "output_type": "execute_result"
    }
   ],
   "source": [
    "cancelled_invoiceNo = df[df.Cancelled == 1].InvoiceNo.tolist()\n",
    "cancelled_invoiceNo = [x[1:] for x in cancelled_invoiceNo]\n",
    "\n",
    "cancelled_invoiceNo[:5]"
   ]
  },
  {
   "cell_type": "code",
   "execution_count": 18,
   "metadata": {
    "execution": {
     "iopub.execute_input": "2021-10-29T02:15:25.640218Z",
     "iopub.status.busy": "2021-10-29T02:15:25.63986Z",
     "iopub.status.idle": "2021-10-29T02:15:25.669828Z",
     "shell.execute_reply": "2021-10-29T02:15:25.669034Z",
     "shell.execute_reply.started": "2021-10-29T02:15:25.640184Z"
    },
    "id": "Mb74dDiqxwHq"
   },
   "outputs": [
    {
     "data": {
      "text/html": [
       "<div>\n",
       "<style scoped>\n",
       "    .dataframe tbody tr th:only-of-type {\n",
       "        vertical-align: middle;\n",
       "    }\n",
       "\n",
       "    .dataframe tbody tr th {\n",
       "        vertical-align: top;\n",
       "    }\n",
       "\n",
       "    .dataframe thead th {\n",
       "        text-align: right;\n",
       "    }\n",
       "</style>\n",
       "<table border=\"1\" class=\"dataframe\">\n",
       "  <thead>\n",
       "    <tr style=\"text-align: right;\">\n",
       "      <th></th>\n",
       "      <th>InvoiceNo</th>\n",
       "      <th>StockCode</th>\n",
       "      <th>Description</th>\n",
       "      <th>Quantity</th>\n",
       "      <th>InvoiceDate</th>\n",
       "      <th>UnitPrice</th>\n",
       "      <th>CustomerID</th>\n",
       "      <th>Country</th>\n",
       "      <th>Cancelled</th>\n",
       "    </tr>\n",
       "  </thead>\n",
       "  <tbody>\n",
       "  </tbody>\n",
       "</table>\n",
       "</div>"
      ],
      "text/plain": [
       "Empty DataFrame\n",
       "Columns: [InvoiceNo, StockCode, Description, Quantity, InvoiceDate, UnitPrice, CustomerID, Country, Cancelled]\n",
       "Index: []"
      ]
     },
     "execution_count": 18,
     "metadata": {},
     "output_type": "execute_result"
    }
   ],
   "source": [
    "df[df[\"InvoiceNo\"].isin(cancelled_invoiceNo)]"
   ]
  },
  {
   "cell_type": "markdown",
   "metadata": {
    "id": "bfwzYPVKxwHq"
   },
   "source": [
    "Nothing, we have just cancellation."
   ]
  },
  {
   "cell_type": "markdown",
   "metadata": {
    "id": "zkb6sKfNxwHr"
   },
   "source": [
    "Lets check if we have different pattern about InvoiceNo."
   ]
  },
  {
   "cell_type": "code",
   "execution_count": 19,
   "metadata": {
    "execution": {
     "iopub.execute_input": "2021-10-29T02:15:25.671294Z",
     "iopub.status.busy": "2021-10-29T02:15:25.670861Z",
     "iopub.status.idle": "2021-10-29T02:15:25.987363Z",
     "shell.execute_reply": "2021-10-29T02:15:25.986119Z",
     "shell.execute_reply.started": "2021-10-29T02:15:25.671263Z"
    },
    "id": "6FmbteGCxwHr"
   },
   "outputs": [
    {
     "data": {
      "text/html": [
       "<div>\n",
       "<style scoped>\n",
       "    .dataframe tbody tr th:only-of-type {\n",
       "        vertical-align: middle;\n",
       "    }\n",
       "\n",
       "    .dataframe tbody tr th {\n",
       "        vertical-align: top;\n",
       "    }\n",
       "\n",
       "    .dataframe thead th {\n",
       "        text-align: right;\n",
       "    }\n",
       "</style>\n",
       "<table border=\"1\" class=\"dataframe\">\n",
       "  <thead>\n",
       "    <tr style=\"text-align: right;\">\n",
       "      <th></th>\n",
       "      <th>InvoiceNo</th>\n",
       "      <th>StockCode</th>\n",
       "      <th>Description</th>\n",
       "      <th>Quantity</th>\n",
       "      <th>InvoiceDate</th>\n",
       "      <th>UnitPrice</th>\n",
       "      <th>CustomerID</th>\n",
       "      <th>Country</th>\n",
       "      <th>Cancelled</th>\n",
       "    </tr>\n",
       "  </thead>\n",
       "  <tbody>\n",
       "    <tr>\n",
       "      <th>141</th>\n",
       "      <td>C536379</td>\n",
       "      <td>D</td>\n",
       "      <td>Discount</td>\n",
       "      <td>-1</td>\n",
       "      <td>12/1/2010 9:41</td>\n",
       "      <td>27.50</td>\n",
       "      <td>14527.0</td>\n",
       "      <td>United Kingdom</td>\n",
       "      <td>1</td>\n",
       "    </tr>\n",
       "    <tr>\n",
       "      <th>154</th>\n",
       "      <td>C536383</td>\n",
       "      <td>35004C</td>\n",
       "      <td>SET OF 3 COLOURED  FLYING DUCKS</td>\n",
       "      <td>-1</td>\n",
       "      <td>12/1/2010 9:49</td>\n",
       "      <td>4.65</td>\n",
       "      <td>15311.0</td>\n",
       "      <td>United Kingdom</td>\n",
       "      <td>1</td>\n",
       "    </tr>\n",
       "    <tr>\n",
       "      <th>235</th>\n",
       "      <td>C536391</td>\n",
       "      <td>22556</td>\n",
       "      <td>PLASTERS IN TIN CIRCUS PARADE</td>\n",
       "      <td>-12</td>\n",
       "      <td>12/1/2010 10:24</td>\n",
       "      <td>1.65</td>\n",
       "      <td>17548.0</td>\n",
       "      <td>United Kingdom</td>\n",
       "      <td>1</td>\n",
       "    </tr>\n",
       "    <tr>\n",
       "      <th>236</th>\n",
       "      <td>C536391</td>\n",
       "      <td>21984</td>\n",
       "      <td>PACK OF 12 PINK PAISLEY TISSUES</td>\n",
       "      <td>-24</td>\n",
       "      <td>12/1/2010 10:24</td>\n",
       "      <td>0.29</td>\n",
       "      <td>17548.0</td>\n",
       "      <td>United Kingdom</td>\n",
       "      <td>1</td>\n",
       "    </tr>\n",
       "    <tr>\n",
       "      <th>237</th>\n",
       "      <td>C536391</td>\n",
       "      <td>21983</td>\n",
       "      <td>PACK OF 12 BLUE PAISLEY TISSUES</td>\n",
       "      <td>-24</td>\n",
       "      <td>12/1/2010 10:24</td>\n",
       "      <td>0.29</td>\n",
       "      <td>17548.0</td>\n",
       "      <td>United Kingdom</td>\n",
       "      <td>1</td>\n",
       "    </tr>\n",
       "    <tr>\n",
       "      <th>...</th>\n",
       "      <td>...</td>\n",
       "      <td>...</td>\n",
       "      <td>...</td>\n",
       "      <td>...</td>\n",
       "      <td>...</td>\n",
       "      <td>...</td>\n",
       "      <td>...</td>\n",
       "      <td>...</td>\n",
       "      <td>...</td>\n",
       "    </tr>\n",
       "    <tr>\n",
       "      <th>540449</th>\n",
       "      <td>C581490</td>\n",
       "      <td>23144</td>\n",
       "      <td>ZINC T-LIGHT HOLDER STARS SMALL</td>\n",
       "      <td>-11</td>\n",
       "      <td>12/9/2011 9:57</td>\n",
       "      <td>0.83</td>\n",
       "      <td>14397.0</td>\n",
       "      <td>United Kingdom</td>\n",
       "      <td>1</td>\n",
       "    </tr>\n",
       "    <tr>\n",
       "      <th>541541</th>\n",
       "      <td>C581499</td>\n",
       "      <td>M</td>\n",
       "      <td>Manual</td>\n",
       "      <td>-1</td>\n",
       "      <td>12/9/2011 10:28</td>\n",
       "      <td>224.69</td>\n",
       "      <td>15498.0</td>\n",
       "      <td>United Kingdom</td>\n",
       "      <td>1</td>\n",
       "    </tr>\n",
       "    <tr>\n",
       "      <th>541715</th>\n",
       "      <td>C581568</td>\n",
       "      <td>21258</td>\n",
       "      <td>VICTORIAN SEWING BOX LARGE</td>\n",
       "      <td>-5</td>\n",
       "      <td>12/9/2011 11:57</td>\n",
       "      <td>10.95</td>\n",
       "      <td>15311.0</td>\n",
       "      <td>United Kingdom</td>\n",
       "      <td>1</td>\n",
       "    </tr>\n",
       "    <tr>\n",
       "      <th>541716</th>\n",
       "      <td>C581569</td>\n",
       "      <td>84978</td>\n",
       "      <td>HANGING HEART JAR T-LIGHT HOLDER</td>\n",
       "      <td>-1</td>\n",
       "      <td>12/9/2011 11:58</td>\n",
       "      <td>1.25</td>\n",
       "      <td>17315.0</td>\n",
       "      <td>United Kingdom</td>\n",
       "      <td>1</td>\n",
       "    </tr>\n",
       "    <tr>\n",
       "      <th>541717</th>\n",
       "      <td>C581569</td>\n",
       "      <td>20979</td>\n",
       "      <td>36 PENCILS TUBE RED RETROSPOT</td>\n",
       "      <td>-5</td>\n",
       "      <td>12/9/2011 11:58</td>\n",
       "      <td>1.25</td>\n",
       "      <td>17315.0</td>\n",
       "      <td>United Kingdom</td>\n",
       "      <td>1</td>\n",
       "    </tr>\n",
       "  </tbody>\n",
       "</table>\n",
       "<p>8905 rows × 9 columns</p>\n",
       "</div>"
      ],
      "text/plain": [
       "       InvoiceNo StockCode                       Description  Quantity  \\\n",
       "141      C536379         D                          Discount        -1   \n",
       "154      C536383    35004C   SET OF 3 COLOURED  FLYING DUCKS        -1   \n",
       "235      C536391     22556    PLASTERS IN TIN CIRCUS PARADE        -12   \n",
       "236      C536391     21984  PACK OF 12 PINK PAISLEY TISSUES        -24   \n",
       "237      C536391     21983  PACK OF 12 BLUE PAISLEY TISSUES        -24   \n",
       "...          ...       ...                               ...       ...   \n",
       "540449   C581490     23144   ZINC T-LIGHT HOLDER STARS SMALL       -11   \n",
       "541541   C581499         M                            Manual        -1   \n",
       "541715   C581568     21258        VICTORIAN SEWING BOX LARGE        -5   \n",
       "541716   C581569     84978  HANGING HEART JAR T-LIGHT HOLDER        -1   \n",
       "541717   C581569     20979     36 PENCILS TUBE RED RETROSPOT        -5   \n",
       "\n",
       "            InvoiceDate  UnitPrice  CustomerID         Country  Cancelled  \n",
       "141      12/1/2010 9:41      27.50     14527.0  United Kingdom          1  \n",
       "154      12/1/2010 9:49       4.65     15311.0  United Kingdom          1  \n",
       "235     12/1/2010 10:24       1.65     17548.0  United Kingdom          1  \n",
       "236     12/1/2010 10:24       0.29     17548.0  United Kingdom          1  \n",
       "237     12/1/2010 10:24       0.29     17548.0  United Kingdom          1  \n",
       "...                 ...        ...         ...             ...        ...  \n",
       "540449   12/9/2011 9:57       0.83     14397.0  United Kingdom          1  \n",
       "541541  12/9/2011 10:28     224.69     15498.0  United Kingdom          1  \n",
       "541715  12/9/2011 11:57      10.95     15311.0  United Kingdom          1  \n",
       "541716  12/9/2011 11:58       1.25     17315.0  United Kingdom          1  \n",
       "541717  12/9/2011 11:58       1.25     17315.0  United Kingdom          1  \n",
       "\n",
       "[8905 rows x 9 columns]"
      ]
     },
     "execution_count": 19,
     "metadata": {},
     "output_type": "execute_result"
    }
   ],
   "source": [
    "df[df.InvoiceNo.str.len() != 6]"
   ]
  },
  {
   "cell_type": "markdown",
   "metadata": {
    "id": "moLOnmAoxwHr"
   },
   "source": [
    "No, we only have proper invoices and cancellations for InvoiceNo. We don't have any different pattern."
   ]
  },
  {
   "cell_type": "code",
   "execution_count": 20,
   "metadata": {
    "execution": {
     "iopub.execute_input": "2021-10-29T02:15:25.989392Z",
     "iopub.status.busy": "2021-10-29T02:15:25.988979Z",
     "iopub.status.idle": "2021-10-29T02:15:26.023614Z",
     "shell.execute_reply": "2021-10-29T02:15:26.022334Z",
     "shell.execute_reply.started": "2021-10-29T02:15:25.989346Z"
    },
    "id": "OtaTjYcoxwHr"
   },
   "outputs": [],
   "source": [
    "df = df[df.Cancelled == 0]"
   ]
  },
  {
   "cell_type": "markdown",
   "metadata": {
    "id": "eLF8RlHYxwHr"
   },
   "source": [
    "Stock Codes generally contains 5 digit numerical codes."
   ]
  },
  {
   "cell_type": "code",
   "execution_count": 21,
   "metadata": {
    "execution": {
     "iopub.execute_input": "2021-10-29T02:15:26.025437Z",
     "iopub.status.busy": "2021-10-29T02:15:26.025125Z",
     "iopub.status.idle": "2021-10-29T02:15:26.373193Z",
     "shell.execute_reply": "2021-10-29T02:15:26.372215Z",
     "shell.execute_reply.started": "2021-10-29T02:15:26.025405Z"
    },
    "id": "zGcnKIgGxwHt"
   },
   "outputs": [
    {
     "data": {
      "text/plain": [
       "StockCode\n",
       "POST            1099\n",
       "M                290\n",
       "C2               133\n",
       "DOT               16\n",
       "BANK CHARGES      12\n",
       "PADS               4\n",
       "Name: count, dtype: int64"
      ]
     },
     "execution_count": 21,
     "metadata": {},
     "output_type": "execute_result"
    }
   ],
   "source": [
    "df[df.StockCode.str.contains(\"^[a-zA-Z]\")].StockCode.value_counts()"
   ]
  },
  {
   "cell_type": "code",
   "execution_count": 22,
   "metadata": {
    "execution": {
     "iopub.execute_input": "2021-10-29T02:15:26.374623Z",
     "iopub.status.busy": "2021-10-29T02:15:26.374342Z",
     "iopub.status.idle": "2021-10-29T02:15:26.671957Z",
     "shell.execute_reply": "2021-10-29T02:15:26.67083Z",
     "shell.execute_reply.started": "2021-10-29T02:15:26.374595Z"
    },
    "id": "eY6z_4dlxwHt"
   },
   "outputs": [
    {
     "data": {
      "text/plain": [
       "Description\n",
       "POSTAGE                       1099\n",
       "Manual                         290\n",
       "CARRIAGE                       133\n",
       "DOTCOM POSTAGE                  16\n",
       "Bank Charges                    12\n",
       "PADS TO MATCH ALL CUSHIONS       4\n",
       "Name: count, dtype: int64"
      ]
     },
     "execution_count": 22,
     "metadata": {},
     "output_type": "execute_result"
    }
   ],
   "source": [
    "df[df.StockCode.str.contains(\"^[a-zA-Z]\")].Description.value_counts()"
   ]
  },
  {
   "cell_type": "markdown",
   "metadata": {
    "id": "2Ix5JiG4xwHt"
   },
   "source": [
    "It looks like data contains more than customer transactions. These are additional costs incurred. So we drop them."
   ]
  },
  {
   "cell_type": "code",
   "execution_count": 23,
   "metadata": {},
   "outputs": [],
   "source": [
    "df =  df[~ df.StockCode.str.contains(\"^[a-zA-Z]\")]"
   ]
  },
  {
   "cell_type": "markdown",
   "metadata": {},
   "source": [
    "Stock code usually is a numeric code of length 5. Lets check if there are any anamolies"
   ]
  },
  {
   "cell_type": "code",
   "execution_count": 24,
   "metadata": {
    "execution": {
     "iopub.execute_input": "2021-10-29T02:15:26.673812Z",
     "iopub.status.busy": "2021-10-29T02:15:26.673377Z",
     "iopub.status.idle": "2021-10-29T02:15:26.929666Z",
     "shell.execute_reply": "2021-10-29T02:15:26.928708Z",
     "shell.execute_reply.started": "2021-10-29T02:15:26.673767Z"
    },
    "id": "X4cJ_wZNxwHt"
   },
   "outputs": [
    {
     "data": {
      "text/plain": [
       "StockCode\n",
       "85123A    2035\n",
       "85099B    1618\n",
       "82494L     820\n",
       "85099F     664\n",
       "85099C     659\n",
       "          ... \n",
       "16169N       1\n",
       "90187B       1\n",
       "90190A       1\n",
       "90190B       1\n",
       "90214Z       1\n",
       "Name: count, Length: 874, dtype: int64"
      ]
     },
     "execution_count": 24,
     "metadata": {},
     "output_type": "execute_result"
    }
   ],
   "source": [
    "df[df.StockCode.str.len() > 5].StockCode.value_counts()"
   ]
  },
  {
   "cell_type": "code",
   "execution_count": 25,
   "metadata": {
    "execution": {
     "iopub.execute_input": "2021-10-29T02:15:26.934564Z",
     "iopub.status.busy": "2021-10-29T02:15:26.934223Z",
     "iopub.status.idle": "2021-10-29T02:15:27.182751Z",
     "shell.execute_reply": "2021-10-29T02:15:27.181787Z",
     "shell.execute_reply.started": "2021-10-29T02:15:26.934528Z"
    },
    "id": "MPD9OAElxwHt"
   },
   "outputs": [
    {
     "data": {
      "text/plain": [
       "Description\n",
       "WHITE HANGING HEART T-LIGHT HOLDER    2028\n",
       "JUMBO BAG RED RETROSPOT               1618\n",
       "WOODEN FRAME ANTIQUE WHITE             820\n",
       "JUMBO BAG STRAWBERRY                   664\n",
       "JUMBO  BAG BAROQUE BLACK WHITE         659\n",
       "                                      ... \n",
       "NEW BAROQUE B'FLY NECKLACE PINK          1\n",
       "PINK ROUND COMPACT MIRROR                1\n",
       "JET BLACK LAS VEGAS BRACELET ROUND       1\n",
       "ORANGE FELT VASE + FLOWERS               1\n",
       "PINK PAINTED KASHMIRI CHAIR              1\n",
       "Name: count, Length: 886, dtype: int64"
      ]
     },
     "execution_count": 25,
     "metadata": {},
     "output_type": "execute_result"
    }
   ],
   "source": [
    "df[df.StockCode.str.len() > 5].Description.value_counts()"
   ]
  },
  {
   "cell_type": "markdown",
   "metadata": {
    "id": "_qN3a_yKxwHt"
   },
   "source": [
    "Some stock codes have a letter at the end of their codes. we don't know what they refer to. Lets keep them."
   ]
  },
  {
   "cell_type": "code",
   "execution_count": 26,
   "metadata": {
    "execution": {
     "iopub.execute_input": "2021-10-29T02:15:27.510396Z",
     "iopub.status.busy": "2021-10-29T02:15:27.510065Z",
     "iopub.status.idle": "2021-10-29T02:15:27.733425Z",
     "shell.execute_reply": "2021-10-29T02:15:27.732371Z",
     "shell.execute_reply.started": "2021-10-29T02:15:27.510363Z"
    },
    "id": "jJZy_YV0xwHv"
   },
   "outputs": [],
   "source": [
    "df[\"Description\"] = df[\"Description\"].str.lower()"
   ]
  },
  {
   "cell_type": "markdown",
   "metadata": {
    "id": "vAmLw2LpxwHv"
   },
   "source": [
    " standardizing descriptions with converting them to all lowercase characters."
   ]
  },
  {
   "cell_type": "markdown",
   "metadata": {
    "id": "U6Xem5KexwHv"
   },
   "source": [
    "Stock Codes - Description"
   ]
  },
  {
   "cell_type": "code",
   "execution_count": 27,
   "metadata": {
    "execution": {
     "iopub.execute_input": "2021-10-29T02:15:27.734849Z",
     "iopub.status.busy": "2021-10-29T02:15:27.734565Z",
     "iopub.status.idle": "2021-10-29T02:15:28.059135Z",
     "shell.execute_reply": "2021-10-29T02:15:28.058174Z",
     "shell.execute_reply.started": "2021-10-29T02:15:27.734821Z"
    },
    "id": "YC9gXinWxwHw"
   },
   "outputs": [
    {
     "data": {
      "text/plain": [
       "StockCode\n",
       "16156L    2\n",
       "17107D    3\n",
       "20622     2\n",
       "20725     2\n",
       "20914     2\n",
       "         ..\n",
       "85184C    2\n",
       "85185B    2\n",
       "90014A    2\n",
       "90014B    2\n",
       "90014C    2\n",
       "Name: Description, Length: 213, dtype: int64"
      ]
     },
     "execution_count": 27,
     "metadata": {},
     "output_type": "execute_result"
    }
   ],
   "source": [
    "df.groupby(\"StockCode\")[\"Description\"].nunique()[df.groupby(\"StockCode\")[\"Description\"].nunique() != 1]"
   ]
  },
  {
   "cell_type": "markdown",
   "metadata": {
    "id": "9n5vMmoPxwHw"
   },
   "source": [
    "213 Stock codes have more than one description. Let's check some of them."
   ]
  },
  {
   "cell_type": "code",
   "execution_count": 28,
   "metadata": {
    "execution": {
     "iopub.execute_input": "2021-10-29T02:15:28.060727Z",
     "iopub.status.busy": "2021-10-29T02:15:28.060411Z",
     "iopub.status.idle": "2021-10-29T02:15:28.127011Z",
     "shell.execute_reply": "2021-10-29T02:15:28.125921Z",
     "shell.execute_reply.started": "2021-10-29T02:15:28.060696Z"
    },
    "id": "ceP6MpjSxwHw"
   },
   "outputs": [
    {
     "data": {
      "text/plain": [
       "Description\n",
       "wrap carousel     14\n",
       "wrap, carousel     4\n",
       "Name: count, dtype: int64"
      ]
     },
     "execution_count": 28,
     "metadata": {},
     "output_type": "execute_result"
    }
   ],
   "source": [
    "df[df.StockCode == \"16156L\"].Description.value_counts()"
   ]
  },
  {
   "cell_type": "code",
   "execution_count": 29,
   "metadata": {
    "execution": {
     "iopub.execute_input": "2021-10-29T02:15:28.128699Z",
     "iopub.status.busy": "2021-10-29T02:15:28.128385Z",
     "iopub.status.idle": "2021-10-29T02:15:28.198667Z",
     "shell.execute_reply": "2021-10-29T02:15:28.197919Z",
     "shell.execute_reply.started": "2021-10-29T02:15:28.128667Z"
    },
    "id": "TW_ohZY1xwHw"
   },
   "outputs": [
    {
     "data": {
      "text/plain": [
       "Description\n",
       "flower fairy,5 summer b'draw liners    25\n",
       "flower fairy 5 drawer liners           21\n",
       "flower fairy 5 summer draw liners       1\n",
       "Name: count, dtype: int64"
      ]
     },
     "execution_count": 29,
     "metadata": {},
     "output_type": "execute_result"
    }
   ],
   "source": [
    "df[df.StockCode == \"17107D\"].Description.value_counts()"
   ]
  },
  {
   "cell_type": "code",
   "execution_count": 30,
   "metadata": {
    "execution": {
     "iopub.execute_input": "2021-10-29T02:15:28.200536Z",
     "iopub.status.busy": "2021-10-29T02:15:28.200014Z",
     "iopub.status.idle": "2021-10-29T02:15:28.266655Z",
     "shell.execute_reply": "2021-10-29T02:15:28.265456Z",
     "shell.execute_reply.started": "2021-10-29T02:15:28.200501Z"
    },
    "id": "2XDrPNokxwHw"
   },
   "outputs": [
    {
     "data": {
      "text/plain": [
       "Description\n",
       "silver/black orbit necklace        2\n",
       "silver and black orbit necklace    1\n",
       "Name: count, dtype: int64"
      ]
     },
     "execution_count": 30,
     "metadata": {},
     "output_type": "execute_result"
    }
   ],
   "source": [
    "df[df.StockCode == \"90014C\"].Description.value_counts()"
   ]
  },
  {
   "cell_type": "markdown",
   "metadata": {
    "id": "5DQMWaihxwHx"
   },
   "source": [
    "Seems we have just a litle differences between them, i.e. \",\" or \"/\""
   ]
  },
  {
   "cell_type": "code",
   "execution_count": 31,
   "metadata": {
    "_kg_hide-output": true,
    "execution": {
     "iopub.execute_input": "2021-10-29T02:15:28.268293Z",
     "iopub.status.busy": "2021-10-29T02:15:28.267943Z",
     "iopub.status.idle": "2021-10-29T02:15:28.287835Z",
     "shell.execute_reply": "2021-10-29T02:15:28.286959Z",
     "shell.execute_reply.started": "2021-10-29T02:15:28.268259Z"
    },
    "id": "nN2qYolAxwHx"
   },
   "outputs": [
    {
     "data": {
      "text/plain": [
       "CustomerID\n",
       "17841.0    7838\n",
       "14911.0    5591\n",
       "14096.0    5095\n",
       "12748.0    4580\n",
       "14606.0    2697\n",
       "           ... \n",
       "14705.0       1\n",
       "13841.0       1\n",
       "17715.0       1\n",
       "18084.0       1\n",
       "13099.0       1\n",
       "Name: count, Length: 4335, dtype: int64"
      ]
     },
     "execution_count": 31,
     "metadata": {},
     "output_type": "execute_result"
    }
   ],
   "source": [
    "df.CustomerID.value_counts()"
   ]
  },
  {
   "cell_type": "code",
   "execution_count": 32,
   "metadata": {
    "_kg_hide-input": true,
    "execution": {
     "iopub.execute_input": "2021-10-29T02:15:28.289758Z",
     "iopub.status.busy": "2021-10-29T02:15:28.289209Z",
     "iopub.status.idle": "2021-10-29T02:15:28.707349Z",
     "shell.execute_reply": "2021-10-29T02:15:28.706165Z",
     "shell.execute_reply.started": "2021-10-29T02:15:28.289723Z"
    },
    "id": "QyLOxUSGxwHy"
   },
   "outputs": [
    {
     "data": {
      "image/png": "[encoded data removed]",
      "text/plain": [
       "<Figure size 1000x800 with 1 Axes>"
      ]
     },
     "metadata": {},
     "output_type": "display_data"
    }
   ],
   "source": [
    "customer_counts = df.CustomerID.value_counts().sort_values(ascending=False).head(25)\n",
    "\n",
    "fig, ax = plt.subplots(figsize = (10, 8))\n",
    "\n",
    "sns.barplot(y = customer_counts.index, x = customer_counts.values, orient = \"h\",\n",
    "            ax = ax, order = customer_counts.index, palette = \"Reds_r\")\n",
    "\n",
    "plt.title(\"Top 25 Customers that have most transactions\")\n",
    "plt.ylabel(\"Customers\")\n",
    "plt.xlabel(\"Transaction Count\")\n",
    "\n",
    "plt.show()"
   ]
  },
  {
   "cell_type": "code",
   "execution_count": 33,
   "metadata": {
    "_kg_hide-output": true,
    "execution": {
     "iopub.execute_input": "2021-10-29T02:15:28.709712Z",
     "iopub.status.busy": "2021-10-29T02:15:28.709258Z",
     "iopub.status.idle": "2021-10-29T02:15:28.81399Z",
     "shell.execute_reply": "2021-10-29T02:15:28.812894Z",
     "shell.execute_reply.started": "2021-10-29T02:15:28.709661Z"
    },
    "id": "UMhemVX8xwHy"
   },
   "outputs": [
    {
     "data": {
      "text/plain": [
       "Country\n",
       "United Kingdom          354005\n",
       "Germany                   8659\n",
       "France                    8034\n",
       "EIRE                      7138\n",
       "Spain                     2423\n",
       "Netherlands               2326\n",
       "Belgium                   1935\n",
       "Switzerland               1811\n",
       "Portugal                  1425\n",
       "Australia                 1184\n",
       "Norway                    1049\n",
       "Channel Islands            744\n",
       "Italy                      741\n",
       "Finland                    647\n",
       "Cyprus                     612\n",
       "Sweden                     428\n",
       "Austria                    384\n",
       "Denmark                    367\n",
       "Poland                     325\n",
       "Japan                      321\n",
       "Israel                     248\n",
       "Unspecified                244\n",
       "Singapore                  215\n",
       "Iceland                    182\n",
       "USA                        179\n",
       "Canada                     150\n",
       "Greece                     142\n",
       "Malta                      109\n",
       "United Arab Emirates        67\n",
       "European Community          57\n",
       "RSA                         57\n",
       "Lebanon                     45\n",
       "Lithuania                   35\n",
       "Brazil                      32\n",
       "Czech Republic              24\n",
       "Bahrain                     17\n",
       "Saudi Arabia                 9\n",
       "Name: count, dtype: int64"
      ]
     },
     "execution_count": 33,
     "metadata": {},
     "output_type": "execute_result"
    }
   ],
   "source": [
    "df.Country.value_counts()"
   ]
  },
  {
   "cell_type": "code",
   "execution_count": 34,
   "metadata": {
    "_kg_hide-input": true,
    "execution": {
     "iopub.execute_input": "2021-10-29T02:15:28.815808Z",
     "iopub.status.busy": "2021-10-29T02:15:28.815477Z",
     "iopub.status.idle": "2021-10-29T02:15:29.68191Z",
     "shell.execute_reply": "2021-10-29T02:15:29.681049Z",
     "shell.execute_reply.started": "2021-10-29T02:15:28.815774Z"
    },
    "id": "SOHz0T6yxwHy"
   },
   "outputs": [
    {
     "data": {
      "image/png": "[encoded data removed]",
      "text/plain": [
       "<Figure size 1800x1000 with 1 Axes>"
      ]
     },
     "metadata": {},
     "output_type": "display_data"
    }
   ],
   "source": [
    "country_counts = df.Country.value_counts().sort_values(ascending=False).head(25)\n",
    "\n",
    "fig, ax = plt.subplots(figsize = (18, 10))\n",
    "\n",
    "sns.barplot(x = country_counts.values, y = country_counts.index, orient = \"h\",\n",
    "            ax = ax, order = country_counts.index, palette = \"Blues_r\")\n",
    "plt.title(\"Top 25 Countries that have most transactions\")\n",
    "plt.ylabel(\"Country\")\n",
    "plt.xlabel(\"Transaction Count\")\n",
    "plt.xscale(\"log\")\n",
    "plt.show()"
   ]
  },
  {
   "cell_type": "code",
   "execution_count": 35,
   "metadata": {
    "execution": {
     "iopub.execute_input": "2021-10-29T02:15:29.683706Z",
     "iopub.status.busy": "2021-10-29T02:15:29.683193Z",
     "iopub.status.idle": "2021-10-29T02:15:29.707174Z",
     "shell.execute_reply": "2021-10-29T02:15:29.70647Z",
     "shell.execute_reply.started": "2021-10-29T02:15:29.683667Z"
    },
    "id": "bCNiL6ZVxwHz"
   },
   "outputs": [
    {
     "data": {
      "text/plain": [
       "count    396370.000000\n",
       "mean          2.867983\n",
       "std           4.264566\n",
       "min           0.000000\n",
       "25%           1.250000\n",
       "50%           1.950000\n",
       "75%           3.750000\n",
       "max         649.500000\n",
       "Name: UnitPrice, dtype: float64"
      ]
     },
     "execution_count": 35,
     "metadata": {},
     "output_type": "execute_result"
    }
   ],
   "source": [
    "df[\"UnitPrice\"].describe()"
   ]
  },
  {
   "cell_type": "markdown",
   "metadata": {
    "id": "KaiggYJTxwHz"
   },
   "source": [
    "0 unit price?"
   ]
  },
  {
   "cell_type": "code",
   "execution_count": 36,
   "metadata": {
    "execution": {
     "iopub.execute_input": "2021-10-29T02:15:29.70855Z",
     "iopub.status.busy": "2021-10-29T02:15:29.708179Z",
     "iopub.status.idle": "2021-10-29T02:15:29.727571Z",
     "shell.execute_reply": "2021-10-29T02:15:29.726583Z",
     "shell.execute_reply.started": "2021-10-29T02:15:29.708522Z"
    },
    "id": "ujb8kpwnxwHz"
   },
   "outputs": [
    {
     "data": {
      "text/plain": [
       "(33, 9)"
      ]
     },
     "execution_count": 36,
     "metadata": {},
     "output_type": "execute_result"
    }
   ],
   "source": [
    "df[df.UnitPrice == 0].shape"
   ]
  },
  {
   "cell_type": "markdown",
   "metadata": {},
   "source": [
    "We have 33 rows that have 0 unit price. Lets see if we can find a pattern"
   ]
  },
  {
   "cell_type": "code",
   "execution_count": 37,
   "metadata": {},
   "outputs": [
    {
     "data": {
      "text/html": [
       "<div>\n",
       "<style scoped>\n",
       "    .dataframe tbody tr th:only-of-type {\n",
       "        vertical-align: middle;\n",
       "    }\n",
       "\n",
       "    .dataframe tbody tr th {\n",
       "        vertical-align: top;\n",
       "    }\n",
       "\n",
       "    .dataframe thead th {\n",
       "        text-align: right;\n",
       "    }\n",
       "</style>\n",
       "<table border=\"1\" class=\"dataframe\">\n",
       "  <thead>\n",
       "    <tr style=\"text-align: right;\">\n",
       "      <th></th>\n",
       "      <th>InvoiceNo</th>\n",
       "      <th>StockCode</th>\n",
       "      <th>Description</th>\n",
       "      <th>Quantity</th>\n",
       "      <th>InvoiceDate</th>\n",
       "      <th>UnitPrice</th>\n",
       "      <th>CustomerID</th>\n",
       "      <th>Country</th>\n",
       "      <th>Cancelled</th>\n",
       "    </tr>\n",
       "  </thead>\n",
       "  <tbody>\n",
       "    <tr>\n",
       "      <th>9302</th>\n",
       "      <td>537197</td>\n",
       "      <td>22841</td>\n",
       "      <td>round cake tin vintage green</td>\n",
       "      <td>1</td>\n",
       "      <td>12/5/2010 14:02</td>\n",
       "      <td>0.0</td>\n",
       "      <td>12647.0</td>\n",
       "      <td>Germany</td>\n",
       "      <td>0</td>\n",
       "    </tr>\n",
       "    <tr>\n",
       "      <th>33576</th>\n",
       "      <td>539263</td>\n",
       "      <td>22580</td>\n",
       "      <td>advent calendar gingham sack</td>\n",
       "      <td>4</td>\n",
       "      <td>12/16/2010 14:36</td>\n",
       "      <td>0.0</td>\n",
       "      <td>16560.0</td>\n",
       "      <td>United Kingdom</td>\n",
       "      <td>0</td>\n",
       "    </tr>\n",
       "    <tr>\n",
       "      <th>40089</th>\n",
       "      <td>539722</td>\n",
       "      <td>22423</td>\n",
       "      <td>regency cakestand 3 tier</td>\n",
       "      <td>10</td>\n",
       "      <td>12/21/2010 13:45</td>\n",
       "      <td>0.0</td>\n",
       "      <td>14911.0</td>\n",
       "      <td>EIRE</td>\n",
       "      <td>0</td>\n",
       "    </tr>\n",
       "    <tr>\n",
       "      <th>47068</th>\n",
       "      <td>540372</td>\n",
       "      <td>22090</td>\n",
       "      <td>paper bunting retrospot</td>\n",
       "      <td>24</td>\n",
       "      <td>1/6/2011 16:41</td>\n",
       "      <td>0.0</td>\n",
       "      <td>13081.0</td>\n",
       "      <td>United Kingdom</td>\n",
       "      <td>0</td>\n",
       "    </tr>\n",
       "    <tr>\n",
       "      <th>47070</th>\n",
       "      <td>540372</td>\n",
       "      <td>22553</td>\n",
       "      <td>plasters in tin skulls</td>\n",
       "      <td>24</td>\n",
       "      <td>1/6/2011 16:41</td>\n",
       "      <td>0.0</td>\n",
       "      <td>13081.0</td>\n",
       "      <td>United Kingdom</td>\n",
       "      <td>0</td>\n",
       "    </tr>\n",
       "    <tr>\n",
       "      <th>56674</th>\n",
       "      <td>541109</td>\n",
       "      <td>22168</td>\n",
       "      <td>organiser wood antique white</td>\n",
       "      <td>1</td>\n",
       "      <td>1/13/2011 15:10</td>\n",
       "      <td>0.0</td>\n",
       "      <td>15107.0</td>\n",
       "      <td>United Kingdom</td>\n",
       "      <td>0</td>\n",
       "    </tr>\n",
       "    <tr>\n",
       "      <th>86789</th>\n",
       "      <td>543599</td>\n",
       "      <td>84535B</td>\n",
       "      <td>fairy cakes notebook a6 size</td>\n",
       "      <td>16</td>\n",
       "      <td>2/10/2011 13:08</td>\n",
       "      <td>0.0</td>\n",
       "      <td>17560.0</td>\n",
       "      <td>United Kingdom</td>\n",
       "      <td>0</td>\n",
       "    </tr>\n",
       "    <tr>\n",
       "      <th>130188</th>\n",
       "      <td>547417</td>\n",
       "      <td>22062</td>\n",
       "      <td>ceramic bowl with love heart design</td>\n",
       "      <td>36</td>\n",
       "      <td>3/23/2011 10:25</td>\n",
       "      <td>0.0</td>\n",
       "      <td>13239.0</td>\n",
       "      <td>United Kingdom</td>\n",
       "      <td>0</td>\n",
       "    </tr>\n",
       "    <tr>\n",
       "      <th>139453</th>\n",
       "      <td>548318</td>\n",
       "      <td>22055</td>\n",
       "      <td>mini cake stand  hanging strawbery</td>\n",
       "      <td>5</td>\n",
       "      <td>3/30/2011 12:45</td>\n",
       "      <td>0.0</td>\n",
       "      <td>13113.0</td>\n",
       "      <td>United Kingdom</td>\n",
       "      <td>0</td>\n",
       "    </tr>\n",
       "    <tr>\n",
       "      <th>145208</th>\n",
       "      <td>548871</td>\n",
       "      <td>22162</td>\n",
       "      <td>heart garland rustic padded</td>\n",
       "      <td>2</td>\n",
       "      <td>4/4/2011 14:42</td>\n",
       "      <td>0.0</td>\n",
       "      <td>14410.0</td>\n",
       "      <td>United Kingdom</td>\n",
       "      <td>0</td>\n",
       "    </tr>\n",
       "    <tr>\n",
       "      <th>157042</th>\n",
       "      <td>550188</td>\n",
       "      <td>22636</td>\n",
       "      <td>childs breakfast set circus parade</td>\n",
       "      <td>1</td>\n",
       "      <td>4/14/2011 18:57</td>\n",
       "      <td>0.0</td>\n",
       "      <td>12457.0</td>\n",
       "      <td>Switzerland</td>\n",
       "      <td>0</td>\n",
       "    </tr>\n",
       "    <tr>\n",
       "      <th>187613</th>\n",
       "      <td>553000</td>\n",
       "      <td>47566</td>\n",
       "      <td>party bunting</td>\n",
       "      <td>4</td>\n",
       "      <td>5/12/2011 15:21</td>\n",
       "      <td>0.0</td>\n",
       "      <td>17667.0</td>\n",
       "      <td>United Kingdom</td>\n",
       "      <td>0</td>\n",
       "    </tr>\n",
       "    <tr>\n",
       "      <th>198383</th>\n",
       "      <td>554037</td>\n",
       "      <td>22619</td>\n",
       "      <td>set of 6 soldier skittles</td>\n",
       "      <td>80</td>\n",
       "      <td>5/20/2011 14:13</td>\n",
       "      <td>0.0</td>\n",
       "      <td>12415.0</td>\n",
       "      <td>Australia</td>\n",
       "      <td>0</td>\n",
       "    </tr>\n",
       "    <tr>\n",
       "      <th>279324</th>\n",
       "      <td>561284</td>\n",
       "      <td>22167</td>\n",
       "      <td>oval wall mirror diamante</td>\n",
       "      <td>1</td>\n",
       "      <td>7/26/2011 12:24</td>\n",
       "      <td>0.0</td>\n",
       "      <td>16818.0</td>\n",
       "      <td>United Kingdom</td>\n",
       "      <td>0</td>\n",
       "    </tr>\n",
       "    <tr>\n",
       "      <th>282912</th>\n",
       "      <td>561669</td>\n",
       "      <td>22960</td>\n",
       "      <td>jam making set with jars</td>\n",
       "      <td>11</td>\n",
       "      <td>7/28/2011 17:09</td>\n",
       "      <td>0.0</td>\n",
       "      <td>12507.0</td>\n",
       "      <td>Spain</td>\n",
       "      <td>0</td>\n",
       "    </tr>\n",
       "    <tr>\n",
       "      <th>298054</th>\n",
       "      <td>562973</td>\n",
       "      <td>23157</td>\n",
       "      <td>set of 6 nativity magnets</td>\n",
       "      <td>240</td>\n",
       "      <td>8/11/2011 11:42</td>\n",
       "      <td>0.0</td>\n",
       "      <td>14911.0</td>\n",
       "      <td>EIRE</td>\n",
       "      <td>0</td>\n",
       "    </tr>\n",
       "    <tr>\n",
       "      <th>314745</th>\n",
       "      <td>564651</td>\n",
       "      <td>23270</td>\n",
       "      <td>set of 2 ceramic painted hearts</td>\n",
       "      <td>96</td>\n",
       "      <td>8/26/2011 14:19</td>\n",
       "      <td>0.0</td>\n",
       "      <td>14646.0</td>\n",
       "      <td>Netherlands</td>\n",
       "      <td>0</td>\n",
       "    </tr>\n",
       "    <tr>\n",
       "      <th>314746</th>\n",
       "      <td>564651</td>\n",
       "      <td>23268</td>\n",
       "      <td>set of 2 ceramic christmas reindeer</td>\n",
       "      <td>192</td>\n",
       "      <td>8/26/2011 14:19</td>\n",
       "      <td>0.0</td>\n",
       "      <td>14646.0</td>\n",
       "      <td>Netherlands</td>\n",
       "      <td>0</td>\n",
       "    </tr>\n",
       "    <tr>\n",
       "      <th>314747</th>\n",
       "      <td>564651</td>\n",
       "      <td>22955</td>\n",
       "      <td>36 foil star cake cases</td>\n",
       "      <td>144</td>\n",
       "      <td>8/26/2011 14:19</td>\n",
       "      <td>0.0</td>\n",
       "      <td>14646.0</td>\n",
       "      <td>Netherlands</td>\n",
       "      <td>0</td>\n",
       "    </tr>\n",
       "    <tr>\n",
       "      <th>314748</th>\n",
       "      <td>564651</td>\n",
       "      <td>21786</td>\n",
       "      <td>polkadot rain hat</td>\n",
       "      <td>144</td>\n",
       "      <td>8/26/2011 14:19</td>\n",
       "      <td>0.0</td>\n",
       "      <td>14646.0</td>\n",
       "      <td>Netherlands</td>\n",
       "      <td>0</td>\n",
       "    </tr>\n",
       "  </tbody>\n",
       "</table>\n",
       "</div>"
      ],
      "text/plain": [
       "       InvoiceNo StockCode                          Description  Quantity  \\\n",
       "9302      537197     22841         round cake tin vintage green         1   \n",
       "33576     539263     22580         advent calendar gingham sack         4   \n",
       "40089     539722     22423             regency cakestand 3 tier        10   \n",
       "47068     540372     22090              paper bunting retrospot        24   \n",
       "47070     540372     22553               plasters in tin skulls        24   \n",
       "56674     541109     22168        organiser wood antique white          1   \n",
       "86789     543599    84535B         fairy cakes notebook a6 size        16   \n",
       "130188    547417     22062  ceramic bowl with love heart design        36   \n",
       "139453    548318     22055   mini cake stand  hanging strawbery         5   \n",
       "145208    548871     22162          heart garland rustic padded         2   \n",
       "157042    550188     22636   childs breakfast set circus parade         1   \n",
       "187613    553000     47566                        party bunting         4   \n",
       "198383    554037     22619            set of 6 soldier skittles        80   \n",
       "279324    561284     22167           oval wall mirror diamante          1   \n",
       "282912    561669     22960             jam making set with jars        11   \n",
       "298054    562973     23157           set of 6 nativity magnets        240   \n",
       "314745    564651     23270     set of 2 ceramic painted hearts         96   \n",
       "314746    564651     23268  set of 2 ceramic christmas reindeer       192   \n",
       "314747    564651     22955             36 foil star cake cases        144   \n",
       "314748    564651     21786                   polkadot rain hat        144   \n",
       "\n",
       "             InvoiceDate  UnitPrice  CustomerID         Country  Cancelled  \n",
       "9302     12/5/2010 14:02        0.0     12647.0         Germany          0  \n",
       "33576   12/16/2010 14:36        0.0     16560.0  United Kingdom          0  \n",
       "40089   12/21/2010 13:45        0.0     14911.0            EIRE          0  \n",
       "47068     1/6/2011 16:41        0.0     13081.0  United Kingdom          0  \n",
       "47070     1/6/2011 16:41        0.0     13081.0  United Kingdom          0  \n",
       "56674    1/13/2011 15:10        0.0     15107.0  United Kingdom          0  \n",
       "86789    2/10/2011 13:08        0.0     17560.0  United Kingdom          0  \n",
       "130188   3/23/2011 10:25        0.0     13239.0  United Kingdom          0  \n",
       "139453   3/30/2011 12:45        0.0     13113.0  United Kingdom          0  \n",
       "145208    4/4/2011 14:42        0.0     14410.0  United Kingdom          0  \n",
       "157042   4/14/2011 18:57        0.0     12457.0     Switzerland          0  \n",
       "187613   5/12/2011 15:21        0.0     17667.0  United Kingdom          0  \n",
       "198383   5/20/2011 14:13        0.0     12415.0       Australia          0  \n",
       "279324   7/26/2011 12:24        0.0     16818.0  United Kingdom          0  \n",
       "282912   7/28/2011 17:09        0.0     12507.0           Spain          0  \n",
       "298054   8/11/2011 11:42        0.0     14911.0            EIRE          0  \n",
       "314745   8/26/2011 14:19        0.0     14646.0     Netherlands          0  \n",
       "314746   8/26/2011 14:19        0.0     14646.0     Netherlands          0  \n",
       "314747   8/26/2011 14:19        0.0     14646.0     Netherlands          0  \n",
       "314748   8/26/2011 14:19        0.0     14646.0     Netherlands          0  "
      ]
     },
     "execution_count": 37,
     "metadata": {},
     "output_type": "execute_result"
    }
   ],
   "source": [
    "df[df.UnitPrice == 0].head(20)"
   ]
  },
  {
   "cell_type": "markdown",
   "metadata": {
    "id": "BoO4wzT4xwHz"
   },
   "source": [
    "We didn't find any pattern. So, we remove them."
   ]
  },
  {
   "cell_type": "code",
   "execution_count": 38,
   "metadata": {
    "_kg_hide-input": true,
    "execution": {
     "iopub.execute_input": "2021-10-29T02:15:29.729207Z",
     "iopub.status.busy": "2021-10-29T02:15:29.728894Z",
     "iopub.status.idle": "2021-10-29T02:15:29.76936Z",
     "shell.execute_reply": "2021-10-29T02:15:29.768272Z",
     "shell.execute_reply.started": "2021-10-29T02:15:29.729176Z"
    },
    "id": "QiOByZH_xwHz"
   },
   "outputs": [
    {
     "name": "stdout",
     "output_type": "stream",
     "text": [
      "We have 396370 observations.\n",
      "We have 396337 observations after removing records that have 0 unit price.\n"
     ]
    }
   ],
   "source": [
    "print(\"We have {} observations.\".format(df.shape[0]))\n",
    "\n",
    "df = df[df.UnitPrice > 0]\n",
    "\n",
    "print(\"We have {} observations after removing records that have 0 unit price.\".format(df.shape[0]))"
   ]
  },
  {
   "cell_type": "markdown",
   "metadata": {},
   "source": [
    "## 3. Outlier Detection"
   ]
  },
  {
   "cell_type": "code",
   "execution_count": 39,
   "metadata": {
    "_kg_hide-input": true,
    "execution": {
     "iopub.execute_input": "2021-10-29T02:15:29.770978Z",
     "iopub.status.busy": "2021-10-29T02:15:29.770659Z",
     "iopub.status.idle": "2021-10-29T02:15:33.898209Z",
     "shell.execute_reply": "2021-10-29T02:15:33.897396Z",
     "shell.execute_reply.started": "2021-10-29T02:15:29.770944Z"
    },
    "id": "5HdTdmzCxwH0"
   },
   "outputs": [
    {
     "data": {
      "image/png": "[encoded data removed]",
      "text/plain": [
       "<Figure size 1200x800 with 4 Axes>"
      ]
     },
     "metadata": {},
     "output_type": "display_data"
    }
   ],
   "source": [
    "fig, axes = plt.subplots(2, 2, figsize = (12, 8))\n",
    "\n",
    "sns.kdeplot(df[\"UnitPrice\"], ax = axes[0][0]).set_title(\"Distribution of Unit Price\")\n",
    "sns.kdeplot(np.log(df[\"UnitPrice\"]), ax = axes[0][1]).set_title(\"Log Unit Price Distribution\")\n",
    "sns.boxplot(y = df[\"UnitPrice\"], ax = axes[1][0]).set_title(\"Boxplot for Unit Price\")\n",
    "sns.boxplot(y = np.log(df[\"UnitPrice\"]), ax = axes[1][1]).set_title(\"Boxplot for Log Unit Price\")\n",
    "#, color = \"#195190\"\n",
    "\n",
    "fig.suptitle(\"Distribution of Unit Price (Before Removing Outliers)\",y=1.02)\n",
    "# Adjust space between subplots\n",
    "plt.tight_layout()\n",
    "plt.show()"
   ]
  },
  {
   "cell_type": "code",
   "execution_count": 40,
   "metadata": {
    "_kg_hide-input": true,
    "execution": {
     "iopub.execute_input": "2021-10-29T02:15:33.899985Z",
     "iopub.status.busy": "2021-10-29T02:15:33.899676Z",
     "iopub.status.idle": "2021-10-29T02:15:33.906062Z",
     "shell.execute_reply": "2021-10-29T02:15:33.90478Z",
     "shell.execute_reply.started": "2021-10-29T02:15:33.899953Z"
    },
    "id": "yJIlc10zxwH0",
    "scrolled": true
   },
   "outputs": [
    {
     "name": "stdout",
     "output_type": "stream",
     "text": [
      "Lower limit for UnitPrice: 0.1353352832366127\n",
      "Upper limit for UnitPrice: 20.085536923187668\n"
     ]
    }
   ],
   "source": [
    "print(\"Lower limit for UnitPrice: \" + str(np.exp(-2)))\n",
    "print(\"Upper limit for UnitPrice: \" + str(np.exp(3)))"
   ]
  },
  {
   "cell_type": "code",
   "execution_count": 41,
   "metadata": {
    "execution": {
     "iopub.execute_input": "2021-10-29T02:15:33.908373Z",
     "iopub.status.busy": "2021-10-29T02:15:33.907896Z",
     "iopub.status.idle": "2021-10-29T02:15:33.929297Z",
     "shell.execute_reply": "2021-10-29T02:15:33.928459Z",
     "shell.execute_reply.started": "2021-10-29T02:15:33.908322Z"
    },
    "id": "hbKW0b-HxwH0"
   },
   "outputs": [
    {
     "data": {
      "text/plain": [
       "12.75"
      ]
     },
     "execution_count": 41,
     "metadata": {},
     "output_type": "execute_result"
    }
   ],
   "source": [
    "np.quantile(df.UnitPrice, 0.99)"
   ]
  },
  {
   "cell_type": "code",
   "execution_count": 42,
   "metadata": {
    "_kg_hide-input": true,
    "execution": {
     "iopub.execute_input": "2021-10-29T02:15:33.931316Z",
     "iopub.status.busy": "2021-10-29T02:15:33.930815Z",
     "iopub.status.idle": "2021-10-29T02:15:33.975105Z",
     "shell.execute_reply": "2021-10-29T02:15:33.974038Z",
     "shell.execute_reply.started": "2021-10-29T02:15:33.931278Z"
    },
    "id": "vlBE_IifxwH0"
   },
   "outputs": [
    {
     "name": "stdout",
     "output_type": "stream",
     "text": [
      "We have 396337 observations\n",
      "We have 395385 observations after removing unit prices smaller than 0.1 and greater than 20.\n"
     ]
    }
   ],
   "source": [
    "print(f\"We have {df.shape[0]} observations\")\n",
    "\n",
    "df = df[(df.UnitPrice > 0.1) & (df.UnitPrice < 20)]\n",
    "\n",
    "print(f\"We have {df.shape[0]} observations after removing unit prices smaller than 0.1 and greater than 20.\")"
   ]
  },
  {
   "cell_type": "code",
   "execution_count": 43,
   "metadata": {
    "_kg_hide-input": true,
    "execution": {
     "iopub.execute_input": "2021-10-29T02:15:33.976948Z",
     "iopub.status.busy": "2021-10-29T02:15:33.97648Z",
     "iopub.status.idle": "2021-10-29T02:15:38.334536Z",
     "shell.execute_reply": "2021-10-29T02:15:38.333499Z",
     "shell.execute_reply.started": "2021-10-29T02:15:33.976901Z"
    },
    "id": "vfWW6UYhxwH1"
   },
   "outputs": [
    {
     "data": {
      "image/png": "[encoded data removed]",
      "text/plain": [
       "<Figure size 1200x800 with 4 Axes>"
      ]
     },
     "metadata": {},
     "output_type": "display_data"
    }
   ],
   "source": [
    "fig, axes = plt.subplots(2, 2, figsize = (12, 8))\n",
    "\n",
    "sns.kdeplot(df[\"UnitPrice\"], ax = axes[0][0]).set_title(\"Distribution of Unit Price\")\n",
    "sns.kdeplot(np.log(df[\"UnitPrice\"]), ax = axes[0][1]).set_title(\"Log Unit Price Distribution\")\n",
    "sns.boxplot(y = df[\"UnitPrice\"], ax = axes[1][0]).set_title(\"Boxplot for Unit Price\")\n",
    "sns.boxplot(y = np.log(df[\"UnitPrice\"]), ax = axes[1][1]).set_title(\"Boxplot for Log Unit Price\")\n",
    "#, color = \"#195190\"\n",
    "# Adjust space between subplots\n",
    "plt.tight_layout()\n",
    "\n",
    "fig.suptitle(\"Distribution of Unit Price (After Removing Outliers)\",y=1.02)\n",
    "plt.show()"
   ]
  },
  {
   "cell_type": "code",
   "execution_count": 44,
   "metadata": {
    "execution": {
     "iopub.execute_input": "2021-10-29T02:15:38.336553Z",
     "iopub.status.busy": "2021-10-29T02:15:38.335987Z",
     "iopub.status.idle": "2021-10-29T02:15:38.358687Z",
     "shell.execute_reply": "2021-10-29T02:15:38.357451Z",
     "shell.execute_reply.started": "2021-10-29T02:15:38.336505Z"
    },
    "id": "1RZF3h18xwH1"
   },
   "outputs": [
    {
     "data": {
      "text/plain": [
       "count    395385.000000\n",
       "mean         12.946075\n",
       "std         179.665683\n",
       "min           1.000000\n",
       "25%           2.000000\n",
       "50%           6.000000\n",
       "75%          12.000000\n",
       "max       80995.000000\n",
       "Name: Quantity, dtype: float64"
      ]
     },
     "execution_count": 44,
     "metadata": {},
     "output_type": "execute_result"
    }
   ],
   "source": [
    "df[\"Quantity\"].describe()"
   ]
  },
  {
   "cell_type": "markdown",
   "metadata": {
    "id": "7fG3p7PPxwH1"
   },
   "source": [
    "75%  -  12.000000 \n",
    "max - 80995.000000. \n",
    "\n",
    "This can skew our analyis. \n",
    "Lets see the distribution.\n",
    "\n",
    "Let's look at these outliers."
   ]
  },
  {
   "cell_type": "code",
   "execution_count": 45,
   "metadata": {
    "_kg_hide-input": true,
    "execution": {
     "iopub.execute_input": "2021-10-29T02:15:38.361051Z",
     "iopub.status.busy": "2021-10-29T02:15:38.360203Z",
     "iopub.status.idle": "2021-10-29T02:15:42.307409Z",
     "shell.execute_reply": "2021-10-29T02:15:42.306377Z",
     "shell.execute_reply.started": "2021-10-29T02:15:38.361001Z"
    },
    "id": "T-9l8ivcxwH2"
   },
   "outputs": [
    {
     "data": {
      "image/png": "[encoded data removed]",
      "text/plain": [
       "<Figure size 1200x800 with 4 Axes>"
      ]
     },
     "metadata": {},
     "output_type": "display_data"
    }
   ],
   "source": [
    "\n",
    "fig, axes = plt.subplots(2, 2, figsize = (12, 8))\n",
    "\n",
    "sns.kdeplot(df[\"Quantity\"], ax = axes[0][0]).set_title(\"Distribution of Quantity\")\n",
    "sns.kdeplot(np.log(df[\"Quantity\"]), ax = axes[0][1]).set_title(\"Log Quantity Distribution\")\n",
    "sns.boxplot(y = df[\"Quantity\"], ax = axes[1][0]).set_title(\"Boxplot for Quantity\")\n",
    "sns.boxplot(y = np.log(df[\"Quantity\"]), ax = axes[1][1]).set_title(\"Boxplot for Log Quantity\")\n",
    "#, color = \"#195190\"\n",
    "# Adjust space between subplots\n",
    "plt.tight_layout()\n",
    "\n",
    "fig.suptitle(\"Distribution of Quantity(Before Removing Outliers)\",y=1.02)\n",
    "plt.show()"
   ]
  },
  {
   "cell_type": "code",
   "execution_count": 46,
   "metadata": {
    "_kg_hide-input": true,
    "execution": {
     "iopub.execute_input": "2021-10-29T02:15:42.309088Z",
     "iopub.status.busy": "2021-10-29T02:15:42.308732Z",
     "iopub.status.idle": "2021-10-29T02:15:42.314855Z",
     "shell.execute_reply": "2021-10-29T02:15:42.313753Z",
     "shell.execute_reply.started": "2021-10-29T02:15:42.309053Z"
    },
    "id": "kusXKnq9xwH2"
   },
   "outputs": [
    {
     "name": "stdout",
     "output_type": "stream",
     "text": [
      "Upper limit for Quantity: 148.4131591025766\n"
     ]
    }
   ],
   "source": [
    "print(\"Upper limit for Quantity: \" + str(np.exp(5)))"
   ]
  },
  {
   "cell_type": "code",
   "execution_count": 47,
   "metadata": {
    "execution": {
     "iopub.execute_input": "2021-10-29T02:15:42.316437Z",
     "iopub.status.busy": "2021-10-29T02:15:42.316148Z",
     "iopub.status.idle": "2021-10-29T02:15:42.333234Z",
     "shell.execute_reply": "2021-10-29T02:15:42.332167Z",
     "shell.execute_reply.started": "2021-10-29T02:15:42.316406Z"
    },
    "id": "URzOeU8JxwH3"
   },
   "outputs": [
    {
     "data": {
      "text/plain": [
       "120.0"
      ]
     },
     "execution_count": 47,
     "metadata": {},
     "output_type": "execute_result"
    }
   ],
   "source": [
    "np.quantile(df.Quantity, 0.99)"
   ]
  },
  {
   "cell_type": "code",
   "execution_count": 48,
   "metadata": {
    "_kg_hide-input": true,
    "execution": {
     "iopub.execute_input": "2021-10-29T02:15:42.335859Z",
     "iopub.status.busy": "2021-10-29T02:15:42.33508Z",
     "iopub.status.idle": "2021-10-29T02:15:42.376896Z",
     "shell.execute_reply": "2021-10-29T02:15:42.375746Z",
     "shell.execute_reply.started": "2021-10-29T02:15:42.335791Z"
    },
    "id": "HhOTjOiaxwH3"
   },
   "outputs": [
    {
     "name": "stdout",
     "output_type": "stream",
     "text": [
      "We have 395385 observations.\n",
      "We have 392735 observations after removing quantities greater than 150.\n"
     ]
    }
   ],
   "source": [
    "print(\"We have {} observations.\".format(df.shape[0]))\n",
    "\n",
    "df = df[(df.Quantity < 150)]\n",
    "\n",
    "print(\"We have {} observations after removing quantities greater than 150.\".format(df.shape[0]))"
   ]
  },
  {
   "cell_type": "code",
   "execution_count": 49,
   "metadata": {
    "_kg_hide-input": true,
    "execution": {
     "iopub.execute_input": "2021-10-29T02:15:42.379111Z",
     "iopub.status.busy": "2021-10-29T02:15:42.378743Z",
     "iopub.status.idle": "2021-10-29T02:15:46.550175Z",
     "shell.execute_reply": "2021-10-29T02:15:46.549082Z",
     "shell.execute_reply.started": "2021-10-29T02:15:42.379077Z"
    },
    "id": "dImH8yPUxwH3",
    "scrolled": false
   },
   "outputs": [
    {
     "data": {
      "image/png": "[encoded data removed]",
      "text/plain": [
       "<Figure size 1200x800 with 4 Axes>"
      ]
     },
     "metadata": {},
     "output_type": "display_data"
    }
   ],
   "source": [
    "fig, axes = plt.subplots(2, 2, figsize = (12, 8))\n",
    "\n",
    "sns.kdeplot(df[\"Quantity\"], ax = axes[0][0]).set_title(\"Distribution of Quantity\")\n",
    "sns.kdeplot(np.log(df[\"Quantity\"]), ax = axes[0][1]).set_title(\"Log Quantity Distribution\")\n",
    "sns.boxplot(y = df[\"Quantity\"], ax = axes[1][0]).set_title(\"Boxplot for Quantity\")\n",
    "sns.boxplot(y = np.log(df[\"Quantity\"]), ax = axes[1][1]).set_title(\"Boxplot for Log Quantity\")\n",
    "#, color = \"#195190\"\n",
    "\n",
    "# Adjust space between subplots\n",
    "plt.tight_layout()\n",
    "\n",
    "\n",
    "fig.suptitle(\"Distribution of Quantity (After Removing Outliers)\",y=1.02)\n",
    "plt.show()"
   ]
  },
  {
   "cell_type": "markdown",
   "metadata": {},
   "source": [
    "## 4. Changing column types and dropping unnessary columns"
   ]
  },
  {
   "cell_type": "code",
   "execution_count": 50,
   "metadata": {
    "execution": {
     "iopub.execute_input": "2021-10-29T02:15:46.551908Z",
     "iopub.status.busy": "2021-10-29T02:15:46.551563Z",
     "iopub.status.idle": "2021-10-29T02:15:48.315218Z",
     "shell.execute_reply": "2021-10-29T02:15:48.313951Z",
     "shell.execute_reply.started": "2021-10-29T02:15:46.551855Z"
    },
    "id": "KI10L8eExwH4"
   },
   "outputs": [],
   "source": [
    "df[\"TotalPrice\"] = df[\"Quantity\"] * df[\"UnitPrice\"]\n",
    "df['InvoiceDate'] = pd.to_datetime(df['InvoiceDate'])\n",
    "df.drop(\"Cancelled\", axis = 1, inplace = True)"
   ]
  },
  {
   "cell_type": "markdown",
   "metadata": {},
   "source": [
    "## 5. Saving the cleaned data\n"
   ]
  },
  {
   "cell_type": "code",
   "execution_count": 52,
   "metadata": {},
   "outputs": [
    {
     "data": {
      "text/html": [
       "<div>\n",
       "<style scoped>\n",
       "    .dataframe tbody tr th:only-of-type {\n",
       "        vertical-align: middle;\n",
       "    }\n",
       "\n",
       "    .dataframe tbody tr th {\n",
       "        vertical-align: top;\n",
       "    }\n",
       "\n",
       "    .dataframe thead th {\n",
       "        text-align: right;\n",
       "    }\n",
       "</style>\n",
       "<table border=\"1\" class=\"dataframe\">\n",
       "  <thead>\n",
       "    <tr style=\"text-align: right;\">\n",
       "      <th></th>\n",
       "      <th>InvoiceNo</th>\n",
       "      <th>StockCode</th>\n",
       "      <th>Description</th>\n",
       "      <th>Quantity</th>\n",
       "      <th>InvoiceDate</th>\n",
       "      <th>UnitPrice</th>\n",
       "      <th>CustomerID</th>\n",
       "      <th>Country</th>\n",
       "      <th>TotalPrice</th>\n",
       "    </tr>\n",
       "  </thead>\n",
       "  <tbody>\n",
       "    <tr>\n",
       "      <th>0</th>\n",
       "      <td>536365</td>\n",
       "      <td>85123A</td>\n",
       "      <td>white hanging heart t-light holder</td>\n",
       "      <td>6</td>\n",
       "      <td>2010-12-01 08:26:00</td>\n",
       "      <td>2.55</td>\n",
       "      <td>17850.0</td>\n",
       "      <td>United Kingdom</td>\n",
       "      <td>15.30</td>\n",
       "    </tr>\n",
       "    <tr>\n",
       "      <th>1</th>\n",
       "      <td>536365</td>\n",
       "      <td>71053</td>\n",
       "      <td>white metal lantern</td>\n",
       "      <td>6</td>\n",
       "      <td>2010-12-01 08:26:00</td>\n",
       "      <td>3.39</td>\n",
       "      <td>17850.0</td>\n",
       "      <td>United Kingdom</td>\n",
       "      <td>20.34</td>\n",
       "    </tr>\n",
       "    <tr>\n",
       "      <th>2</th>\n",
       "      <td>536365</td>\n",
       "      <td>84406B</td>\n",
       "      <td>cream cupid hearts coat hanger</td>\n",
       "      <td>8</td>\n",
       "      <td>2010-12-01 08:26:00</td>\n",
       "      <td>2.75</td>\n",
       "      <td>17850.0</td>\n",
       "      <td>United Kingdom</td>\n",
       "      <td>22.00</td>\n",
       "    </tr>\n",
       "    <tr>\n",
       "      <th>3</th>\n",
       "      <td>536365</td>\n",
       "      <td>84029G</td>\n",
       "      <td>knitted union flag hot water bottle</td>\n",
       "      <td>6</td>\n",
       "      <td>2010-12-01 08:26:00</td>\n",
       "      <td>3.39</td>\n",
       "      <td>17850.0</td>\n",
       "      <td>United Kingdom</td>\n",
       "      <td>20.34</td>\n",
       "    </tr>\n",
       "    <tr>\n",
       "      <th>4</th>\n",
       "      <td>536365</td>\n",
       "      <td>84029E</td>\n",
       "      <td>red woolly hottie white heart.</td>\n",
       "      <td>6</td>\n",
       "      <td>2010-12-01 08:26:00</td>\n",
       "      <td>3.39</td>\n",
       "      <td>17850.0</td>\n",
       "      <td>United Kingdom</td>\n",
       "      <td>20.34</td>\n",
       "    </tr>\n",
       "    <tr>\n",
       "      <th>5</th>\n",
       "      <td>536365</td>\n",
       "      <td>22752</td>\n",
       "      <td>set 7 babushka nesting boxes</td>\n",
       "      <td>2</td>\n",
       "      <td>2010-12-01 08:26:00</td>\n",
       "      <td>7.65</td>\n",
       "      <td>17850.0</td>\n",
       "      <td>United Kingdom</td>\n",
       "      <td>15.30</td>\n",
       "    </tr>\n",
       "    <tr>\n",
       "      <th>6</th>\n",
       "      <td>536365</td>\n",
       "      <td>21730</td>\n",
       "      <td>glass star frosted t-light holder</td>\n",
       "      <td>6</td>\n",
       "      <td>2010-12-01 08:26:00</td>\n",
       "      <td>4.25</td>\n",
       "      <td>17850.0</td>\n",
       "      <td>United Kingdom</td>\n",
       "      <td>25.50</td>\n",
       "    </tr>\n",
       "    <tr>\n",
       "      <th>7</th>\n",
       "      <td>536366</td>\n",
       "      <td>22633</td>\n",
       "      <td>hand warmer union jack</td>\n",
       "      <td>6</td>\n",
       "      <td>2010-12-01 08:28:00</td>\n",
       "      <td>1.85</td>\n",
       "      <td>17850.0</td>\n",
       "      <td>United Kingdom</td>\n",
       "      <td>11.10</td>\n",
       "    </tr>\n",
       "    <tr>\n",
       "      <th>8</th>\n",
       "      <td>536366</td>\n",
       "      <td>22632</td>\n",
       "      <td>hand warmer red polka dot</td>\n",
       "      <td>6</td>\n",
       "      <td>2010-12-01 08:28:00</td>\n",
       "      <td>1.85</td>\n",
       "      <td>17850.0</td>\n",
       "      <td>United Kingdom</td>\n",
       "      <td>11.10</td>\n",
       "    </tr>\n",
       "    <tr>\n",
       "      <th>9</th>\n",
       "      <td>536367</td>\n",
       "      <td>84879</td>\n",
       "      <td>assorted colour bird ornament</td>\n",
       "      <td>32</td>\n",
       "      <td>2010-12-01 08:34:00</td>\n",
       "      <td>1.69</td>\n",
       "      <td>13047.0</td>\n",
       "      <td>United Kingdom</td>\n",
       "      <td>54.08</td>\n",
       "    </tr>\n",
       "    <tr>\n",
       "      <th>10</th>\n",
       "      <td>536367</td>\n",
       "      <td>22745</td>\n",
       "      <td>poppy's playhouse bedroom</td>\n",
       "      <td>6</td>\n",
       "      <td>2010-12-01 08:34:00</td>\n",
       "      <td>2.10</td>\n",
       "      <td>13047.0</td>\n",
       "      <td>United Kingdom</td>\n",
       "      <td>12.60</td>\n",
       "    </tr>\n",
       "    <tr>\n",
       "      <th>11</th>\n",
       "      <td>536367</td>\n",
       "      <td>22748</td>\n",
       "      <td>poppy's playhouse kitchen</td>\n",
       "      <td>6</td>\n",
       "      <td>2010-12-01 08:34:00</td>\n",
       "      <td>2.10</td>\n",
       "      <td>13047.0</td>\n",
       "      <td>United Kingdom</td>\n",
       "      <td>12.60</td>\n",
       "    </tr>\n",
       "    <tr>\n",
       "      <th>12</th>\n",
       "      <td>536367</td>\n",
       "      <td>22749</td>\n",
       "      <td>feltcraft princess charlotte doll</td>\n",
       "      <td>8</td>\n",
       "      <td>2010-12-01 08:34:00</td>\n",
       "      <td>3.75</td>\n",
       "      <td>13047.0</td>\n",
       "      <td>United Kingdom</td>\n",
       "      <td>30.00</td>\n",
       "    </tr>\n",
       "    <tr>\n",
       "      <th>13</th>\n",
       "      <td>536367</td>\n",
       "      <td>22310</td>\n",
       "      <td>ivory knitted mug cosy</td>\n",
       "      <td>6</td>\n",
       "      <td>2010-12-01 08:34:00</td>\n",
       "      <td>1.65</td>\n",
       "      <td>13047.0</td>\n",
       "      <td>United Kingdom</td>\n",
       "      <td>9.90</td>\n",
       "    </tr>\n",
       "    <tr>\n",
       "      <th>14</th>\n",
       "      <td>536367</td>\n",
       "      <td>84969</td>\n",
       "      <td>box of 6 assorted colour teaspoons</td>\n",
       "      <td>6</td>\n",
       "      <td>2010-12-01 08:34:00</td>\n",
       "      <td>4.25</td>\n",
       "      <td>13047.0</td>\n",
       "      <td>United Kingdom</td>\n",
       "      <td>25.50</td>\n",
       "    </tr>\n",
       "    <tr>\n",
       "      <th>15</th>\n",
       "      <td>536367</td>\n",
       "      <td>22623</td>\n",
       "      <td>box of vintage jigsaw blocks</td>\n",
       "      <td>3</td>\n",
       "      <td>2010-12-01 08:34:00</td>\n",
       "      <td>4.95</td>\n",
       "      <td>13047.0</td>\n",
       "      <td>United Kingdom</td>\n",
       "      <td>14.85</td>\n",
       "    </tr>\n",
       "    <tr>\n",
       "      <th>16</th>\n",
       "      <td>536367</td>\n",
       "      <td>22622</td>\n",
       "      <td>box of vintage alphabet blocks</td>\n",
       "      <td>2</td>\n",
       "      <td>2010-12-01 08:34:00</td>\n",
       "      <td>9.95</td>\n",
       "      <td>13047.0</td>\n",
       "      <td>United Kingdom</td>\n",
       "      <td>19.90</td>\n",
       "    </tr>\n",
       "    <tr>\n",
       "      <th>17</th>\n",
       "      <td>536367</td>\n",
       "      <td>21754</td>\n",
       "      <td>home building block word</td>\n",
       "      <td>3</td>\n",
       "      <td>2010-12-01 08:34:00</td>\n",
       "      <td>5.95</td>\n",
       "      <td>13047.0</td>\n",
       "      <td>United Kingdom</td>\n",
       "      <td>17.85</td>\n",
       "    </tr>\n",
       "    <tr>\n",
       "      <th>18</th>\n",
       "      <td>536367</td>\n",
       "      <td>21755</td>\n",
       "      <td>love building block word</td>\n",
       "      <td>3</td>\n",
       "      <td>2010-12-01 08:34:00</td>\n",
       "      <td>5.95</td>\n",
       "      <td>13047.0</td>\n",
       "      <td>United Kingdom</td>\n",
       "      <td>17.85</td>\n",
       "    </tr>\n",
       "    <tr>\n",
       "      <th>19</th>\n",
       "      <td>536367</td>\n",
       "      <td>21777</td>\n",
       "      <td>recipe box with metal heart</td>\n",
       "      <td>4</td>\n",
       "      <td>2010-12-01 08:34:00</td>\n",
       "      <td>7.95</td>\n",
       "      <td>13047.0</td>\n",
       "      <td>United Kingdom</td>\n",
       "      <td>31.80</td>\n",
       "    </tr>\n",
       "  </tbody>\n",
       "</table>\n",
       "</div>"
      ],
      "text/plain": [
       "   InvoiceNo StockCode                          Description  Quantity  \\\n",
       "0     536365    85123A   white hanging heart t-light holder         6   \n",
       "1     536365     71053                  white metal lantern         6   \n",
       "2     536365    84406B       cream cupid hearts coat hanger         8   \n",
       "3     536365    84029G  knitted union flag hot water bottle         6   \n",
       "4     536365    84029E       red woolly hottie white heart.         6   \n",
       "5     536365     22752         set 7 babushka nesting boxes         2   \n",
       "6     536365     21730    glass star frosted t-light holder         6   \n",
       "7     536366     22633               hand warmer union jack         6   \n",
       "8     536366     22632            hand warmer red polka dot         6   \n",
       "9     536367     84879        assorted colour bird ornament        32   \n",
       "10    536367     22745           poppy's playhouse bedroom          6   \n",
       "11    536367     22748            poppy's playhouse kitchen         6   \n",
       "12    536367     22749    feltcraft princess charlotte doll         8   \n",
       "13    536367     22310              ivory knitted mug cosy          6   \n",
       "14    536367     84969   box of 6 assorted colour teaspoons         6   \n",
       "15    536367     22623        box of vintage jigsaw blocks          3   \n",
       "16    536367     22622       box of vintage alphabet blocks         2   \n",
       "17    536367     21754             home building block word         3   \n",
       "18    536367     21755             love building block word         3   \n",
       "19    536367     21777          recipe box with metal heart         4   \n",
       "\n",
       "           InvoiceDate  UnitPrice  CustomerID         Country  TotalPrice  \n",
       "0  2010-12-01 08:26:00       2.55     17850.0  United Kingdom       15.30  \n",
       "1  2010-12-01 08:26:00       3.39     17850.0  United Kingdom       20.34  \n",
       "2  2010-12-01 08:26:00       2.75     17850.0  United Kingdom       22.00  \n",
       "3  2010-12-01 08:26:00       3.39     17850.0  United Kingdom       20.34  \n",
       "4  2010-12-01 08:26:00       3.39     17850.0  United Kingdom       20.34  \n",
       "5  2010-12-01 08:26:00       7.65     17850.0  United Kingdom       15.30  \n",
       "6  2010-12-01 08:26:00       4.25     17850.0  United Kingdom       25.50  \n",
       "7  2010-12-01 08:28:00       1.85     17850.0  United Kingdom       11.10  \n",
       "8  2010-12-01 08:28:00       1.85     17850.0  United Kingdom       11.10  \n",
       "9  2010-12-01 08:34:00       1.69     13047.0  United Kingdom       54.08  \n",
       "10 2010-12-01 08:34:00       2.10     13047.0  United Kingdom       12.60  \n",
       "11 2010-12-01 08:34:00       2.10     13047.0  United Kingdom       12.60  \n",
       "12 2010-12-01 08:34:00       3.75     13047.0  United Kingdom       30.00  \n",
       "13 2010-12-01 08:34:00       1.65     13047.0  United Kingdom        9.90  \n",
       "14 2010-12-01 08:34:00       4.25     13047.0  United Kingdom       25.50  \n",
       "15 2010-12-01 08:34:00       4.95     13047.0  United Kingdom       14.85  \n",
       "16 2010-12-01 08:34:00       9.95     13047.0  United Kingdom       19.90  \n",
       "17 2010-12-01 08:34:00       5.95     13047.0  United Kingdom       17.85  \n",
       "18 2010-12-01 08:34:00       5.95     13047.0  United Kingdom       17.85  \n",
       "19 2010-12-01 08:34:00       7.95     13047.0  United Kingdom       31.80  "
      ]
     },
     "execution_count": 52,
     "metadata": {},
     "output_type": "execute_result"
    }
   ],
   "source": [
    "df.head(20)"
   ]
  },
  {
   "cell_type": "code",
   "execution_count": 54,
   "metadata": {},
   "outputs": [
    {
     "data": {
      "text/plain": [
       "InvoiceNo              object\n",
       "StockCode              object\n",
       "Description            object\n",
       "Quantity                int64\n",
       "InvoiceDate    datetime64[ns]\n",
       "UnitPrice             float64\n",
       "CustomerID            float64\n",
       "Country                object\n",
       "TotalPrice            float64\n",
       "dtype: object"
      ]
     },
     "execution_count": 54,
     "metadata": {},
     "output_type": "execute_result"
    }
   ],
   "source": [
    "df.dtypes"
   ]
  },
  {
   "cell_type": "code",
   "execution_count": 55,
   "metadata": {
    "execution": {
     "iopub.execute_input": "2021-10-29T02:15:48.317011Z",
     "iopub.status.busy": "2021-10-29T02:15:48.316701Z",
     "iopub.status.idle": "2021-10-29T02:15:52.283097Z",
     "shell.execute_reply": "2021-10-29T02:15:52.282169Z",
     "shell.execute_reply.started": "2021-10-29T02:15:48.31698Z"
    },
    "id": "Ug3p_BGjxwH4"
   },
   "outputs": [],
   "source": [
    "\n",
    "df.to_csv(\"online_retail_final.csv\", index = False)"
   ]
  },
  {
   "cell_type": "code",
   "execution_count": null,
   "metadata": {},
   "outputs": [],
   "source": []
  }
 ],
 "metadata": {
  "colab": {
   "provenance": []
  },
  "kernelspec": {
   "display_name": "Python 3 (ipykernel)",
   "language": "python",
   "name": "python3"
  },
  "language_info": {
   "codemirror_mode": {
    "name": "ipython",
    "version": 3
   },
   "file_extension": ".py",
   "mimetype": "text/x-python",
   "name": "python",
   "nbconvert_exporter": "python",
   "pygments_lexer": "ipython3",
   "version": "3.11.5"
  }
 },
 "nbformat": 4,
 "nbformat_minor": 1
}
